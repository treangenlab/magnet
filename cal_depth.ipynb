{
 "cells": [
  {
   "cell_type": "code",
   "execution_count": null,
   "id": "3b2b0324-6e05-46ef-9833-25348c1c3f06",
   "metadata": {},
   "outputs": [],
   "source": [
    "import os\n",
    "import subprocess\n",
    "from collections import defaultdict\n",
    "\n",
    "import pandas as pd\n",
    "from Bio import SeqIO"
   ]
  },
  {
   "cell_type": "code",
   "execution_count": null,
   "id": "48f0557d-f5dc-4788-9423-9f80cfa59b50",
   "metadata": {},
   "outputs": [],
   "source": [
    "def calculate_depth(assembly_id):\n",
    "    reference_fasta = os.path.join(reference_genome_path, f'{assembly_id}.fasta')\n",
    "    depth_file = os.path.join(depth_file_path, f\"{assembly_id}.depth\")\n",
    "    \n",
    "    with open(reference_fasta, \"r\") as handle:\n",
    "        genome_length = 0\n",
    "        for record in SeqIO.parse(handle, \"fasta\"):\n",
    "            genome_length += len(record.seq)\n",
    "\n",
    "    genome_pos_count = 0\n",
    "    genome_totol_count = 0\n",
    "\n",
    "    with open(depth_file, \"r\") as depth:\n",
    "        for line in depth.readlines():\n",
    "\n",
    "            pos = int(line.split(\"\\t\")[1])\n",
    "            depth = int(line.strip().split(\"\\t\")[2])\n",
    "\n",
    "            if depth >= min_depth:\n",
    "                genome_pos_count += 1\n",
    "                genome_totol_count += depth\n",
    "\n",
    "    breadth_coverage = genome_pos_count/genome_length\n",
    "    depth_coverage = genome_totol_count/genome_pos_count\n",
    "    \n",
    "    return breadth_coverage, depth_coverage"
   ]
  },
  {
   "cell_type": "code",
   "execution_count": null,
   "id": "cd9707e7-b2b2-4662-9c94-69ab53215c67",
   "metadata": {},
   "outputs": [],
   "source": [
    "reference_metadata = pd.read_csv('reference_metadata.csv')\n",
    "reference_genome_path = 'reference_genomes'\n",
    "depth_file_path = 'alignment/depth_files'"
   ]
  },
  {
   "cell_type": "code",
   "execution_count": null,
   "id": "e80c840a-c137-44ce-9cd7-d6d855bbe27d",
   "metadata": {},
   "outputs": [],
   "source": [
    "downloaded_assemblies = reference_metadata[reference_metadata['Downloaded']]\n",
    "\n",
    "breadth_coverage_list = []\n",
    "depth_coverage_list = []\n",
    "for assembly_id in downloaded_assemblies['Assembly Accession ID']:\n",
    "    breadth_coverage, depth_coverage = calculate_depth(assembly_id)\n",
    "    breadth_coverage_list.append(breadth_coverage)\n",
    "    depth_coverage_list.append(depth_coverage)\n",
    "    "
   ]
  },
  {
   "cell_type": "code",
   "execution_count": null,
   "id": "64f4c7d6-b483-4601-9677-5f54683367be",
   "metadata": {},
   "outputs": [],
   "source": [
    "downloaded_assemblies['Breadth Coverage'] = breadth_coverage_list\n",
    "downloaded_assemblies['Depth Coverage'] = depth_coverage_list"
   ]
  },
  {
   "cell_type": "code",
   "execution_count": null,
   "id": "5f45e3a4-b818-42b0-9787-f3c43ac059a4",
   "metadata": {},
   "outputs": [],
   "source": [
    "downloaded_assemblies.to_csv('coverage.csv', index=False)"
   ]
  },
  {
   "cell_type": "code",
   "execution_count": null,
   "id": "ab759fef-9879-4397-ba3f-8cc6da1ff008",
   "metadata": {},
   "outputs": [],
   "source": [
    "downloaded_assemblies"
   ]
  },
  {
   "cell_type": "code",
   "execution_count": null,
   "id": "05e571c8-90cd-41b6-90b2-b35a9f471a91",
   "metadata": {},
   "outputs": [],
   "source": []
  }
 ],
 "metadata": {
  "kernelspec": {
   "display_name": "Python 3 (ipykernel)",
   "language": "python",
   "name": "python3"
  },
  "language_info": {
   "codemirror_mode": {
    "name": "ipython",
    "version": 3
   },
   "file_extension": ".py",
   "mimetype": "text/x-python",
   "name": "python",
   "nbconvert_exporter": "python",
   "pygments_lexer": "ipython3",
   "version": "3.7.12"
  }
 },
 "nbformat": 4,
 "nbformat_minor": 5
}
