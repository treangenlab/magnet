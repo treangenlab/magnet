{
 "cells": [
  {
   "cell_type": "code",
   "execution_count": null,
   "id": "e393d7af-425d-4b1e-8777-bb3159564f02",
   "metadata": {},
   "outputs": [],
   "source": [
    "import os\n",
    "import subprocess\n",
    "from collections import defaultdict\n",
    "import math\n",
    "import pandas as pd\n",
    "from Bio import SeqIO"
   ]
  },
  {
   "cell_type": "code",
   "execution_count": null,
   "id": "040f65a4-81a7-4ad6-a0ac-6c1bc43786dc",
   "metadata": {},
   "outputs": [],
   "source": [
    "def cal_ani(assembly_id):\n",
    "    reference_fasta = os.path.join(reference_genome_path, f'{assembly_id}.fasta')\n",
    "\n",
    "    with open(reference_fasta, \"r\") as handle:\n",
    "        total_count = 0\n",
    "        matched_count = 0\n",
    "\n",
    "        for record in SeqIO.parse(handle, \"fasta\"):\n",
    "            if record.id in consensus_record_dict:\n",
    "                for idx, base in enumerate(record.seq):\n",
    "                    if consensus_record_dict[record.id][idx] != 'N':\n",
    "                        total_count += 1\n",
    "                        if consensus_record_dict[record.id][idx] == base:\n",
    "                            matched_count += 1\n",
    "            else:\n",
    "                print(\"No alignment found:\", record.id, record.description)\n",
    "                    \n",
    "    return matched_count/total_count"
   ]
  },
  {
   "cell_type": "code",
   "execution_count": null,
   "id": "a3e24936-b8dd-4548-a826-794d3f75ca80",
   "metadata": {},
   "outputs": [],
   "source": [
    "threads=20"
   ]
  },
  {
   "cell_type": "code",
   "execution_count": null,
   "id": "074e7bc7-2753-4bdf-bcd5-40c2421f9e30",
   "metadata": {},
   "outputs": [],
   "source": [
    "output_directory = \"/home/Users/yl181/seqscreen_nano/ZymoBIOMICS.STD.Even.ont.minimap2.score70\"\n",
    "reference_genome_path = os.path.join(output_directory, 'reference_genomes')"
   ]
  },
  {
   "cell_type": "code",
   "execution_count": null,
   "id": "822bdfb4-42e2-494d-b813-2f05b7788c5b",
   "metadata": {},
   "outputs": [],
   "source": [
    "re_alignment_metadata = pd.read_csv(os.path.join(output_directory, 're-alignment.csv'))"
   ]
  },
  {
   "cell_type": "code",
   "execution_count": null,
   "id": "ea4d1513-0b98-401c-9da4-eaedb9d2f69c",
   "metadata": {},
   "outputs": [],
   "source": [
    "merged_bam = os.path.join(output_directory, 'bam_files', 'merged.sorted.bam')\n",
    "subprocess.run(['samtools', 'consensus', \n",
    "                '--show-ins', 'no', \n",
    "                '--show-del', 'yes', \n",
    "                '-a',\n",
    "                '--threads', str(threads),\n",
    "                merged_bam, \n",
    "                '-o', os.path.join(output_directory, 'merged_consensus.fasta')],\n",
    "              check=True)"
   ]
  },
  {
   "cell_type": "code",
   "execution_count": null,
   "id": "dbe76a7b-e782-4917-8475-fcdb243fc9e5",
   "metadata": {},
   "outputs": [],
   "source": [
    "consensus_record_dict = SeqIO.to_dict(SeqIO.parse(os.path.join(output_directory, 'merged_consensus.fasta'), \"fasta\"))"
   ]
  },
  {
   "cell_type": "code",
   "execution_count": null,
   "id": "2985d364-7fa7-479e-9be5-0d52c994ea69",
   "metadata": {},
   "outputs": [],
   "source": [
    "ani_list = []\n",
    "for idx, row in re_alignment_metadata.iterrows():\n",
    "    if row['CS2'] != 0:\n",
    "        assembly_id = row['Assembly Accession ID']\n",
    "        ani_list.append(cal_ani(assembly_id))\n",
    "    else:\n",
    "        ani_list.append(0)"
   ]
  },
  {
   "cell_type": "code",
   "execution_count": null,
   "id": "15faae26-7e10-4f54-8144-b74178b9c55e",
   "metadata": {},
   "outputs": [],
   "source": [
    "re_alignment_metadata['Consensus ANI'] = ani_list"
   ]
  },
  {
   "cell_type": "code",
   "execution_count": null,
   "id": "87e3e0b2-b421-41ee-98ba-1e51b2fb903c",
   "metadata": {},
   "outputs": [],
   "source": [
    "re_alignment_metadata.sort_values(['Coverage Score'], ascending=False).to_csv(os.path.join(output_directory, 're-alignment.csv'), index=False)"
   ]
  },
  {
   "cell_type": "code",
   "execution_count": null,
   "id": "c2998745-99da-486a-a642-29ceaf90ef2c",
   "metadata": {},
   "outputs": [],
   "source": []
  }
 ],
 "metadata": {
  "kernelspec": {
   "display_name": "Python 3 (ipykernel)",
   "language": "python",
   "name": "python3"
  },
  "language_info": {
   "codemirror_mode": {
    "name": "ipython",
    "version": 3
   },
   "file_extension": ".py",
   "mimetype": "text/x-python",
   "name": "python",
   "nbconvert_exporter": "python",
   "pygments_lexer": "ipython3",
   "version": "3.9.13"
  }
 },
 "nbformat": 4,
 "nbformat_minor": 5
}
