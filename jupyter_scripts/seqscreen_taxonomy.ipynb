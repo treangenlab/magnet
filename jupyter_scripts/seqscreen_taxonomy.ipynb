{
 "cells": [
  {
   "cell_type": "code",
   "execution_count": null,
   "id": "1c2eecdc-31a9-4f82-b2c1-2538d6380aff",
   "metadata": {},
   "outputs": [],
   "source": [
    "import os\n",
    "import subprocess\n",
    "import sys\n",
    "\n",
    "from collections import defaultdict\n",
    "from Bio import Entrez\n",
    "import time\n",
    "\n",
    "import pandas as pd\n",
    "import json\n",
    "from ete3 import NCBITaxa"
   ]
  },
  {
   "cell_type": "code",
   "execution_count": null,
   "id": "f79aa254-97a1-4867-a88c-5675a5347495",
   "metadata": {},
   "outputs": [],
   "source": [
    "sys.path.insert(0, '../utils')\n",
    "from reference_finder import download_reference_genome, unpack, cat_reference_genome\n",
    "from alignment import run_minimap2, sort_samfile, calculate_depth"
   ]
  },
  {
   "cell_type": "code",
   "execution_count": null,
   "id": "08b1fd79-11d4-4d26-87f2-2a09a3447ca7",
   "metadata": {},
   "outputs": [],
   "source": [
    "import warnings\n",
    "warnings.filterwarnings(\"ignore\")"
   ]
  },
  {
   "cell_type": "code",
   "execution_count": null,
   "id": "22e46ecd-2fa2-487f-883b-06b1f0db5a73",
   "metadata": {},
   "outputs": [],
   "source": [
    "def get_species_taxid(taxid, ncbi_taxa_db, valid_kingdom={2, 4751, 2157, 10239}):\n",
    "    lineage = ncbi_taxa_db.get_lineage(taxid)\n",
    "    if bool(set(lineage) & valid_kingdom):\n",
    "        taxid2rank_dict = ncbi_taxa_db.get_rank(lineage)\n",
    "        for lineage_taxid in taxid2rank_dict:\n",
    "            if taxid2rank_dict[lineage_taxid] == 'species':\n",
    "                return lineage_taxid\n",
    "    return None"
   ]
  },
  {
   "cell_type": "code",
   "execution_count": null,
   "id": "aca8de42-c709-497c-b573-9f3b091756a3",
   "metadata": {},
   "outputs": [],
   "source": [
    "def filter_seqscreen_taxonomy(seqscreen_output, min_frac, ncbi_taxa_db, valid_kingdom):\n",
    "    classification_result_df = pd.read_csv(os.path.join(seqscreen_output, \n",
    "                                                        'taxonomic_identification', \n",
    "                                                        'taxonomic_assignment', \n",
    "                                                        'taxonomic_results.txt'), \n",
    "                                           sep='\\t')\n",
    "    total_read_count, _ = classification_result_df.shape\n",
    "    \n",
    "    taxid_count_dict = defaultdict(int)\n",
    "    taxid_species_lookup = dict()\n",
    "    error_count = 0\n",
    "    for taxid in classification_result_df['taxid']:\n",
    "        try:\n",
    "            taxid = int(taxid)\n",
    "            try:\n",
    "                species_taxid = taxid_species_lookup[taxid]\n",
    "            except KeyError:\n",
    "                species_taxid = get_species_taxid(taxid, ncbi_taxa_db, valid_kingdom)\n",
    "                taxid_species_lookup[taxid] = species_taxid\n",
    "\n",
    "            if species_taxid is not None:\n",
    "                taxid_count_dict[species_taxid] += 1\n",
    "        except ValueError:\n",
    "            error_count += 1\n",
    "\n",
    "    taxid_queries = []\n",
    "    for taxid in taxid_count_dict:\n",
    "        if taxid_count_dict[taxid] >= min_frac * total_read_count:\n",
    "            taxid_queries.append(taxid)\n",
    "            \n",
    "    return taxid_queries"
   ]
  },
  {
   "cell_type": "code",
   "execution_count": null,
   "id": "5d2ba1d0-ccca-4f0e-b3fb-f652e8be287a",
   "metadata": {},
   "outputs": [],
   "source": [
    "def prepare_reference_genomes(taxid_queries, output_directory, ncbi_taxa_db):\n",
    "    working_dir = os.path.join(output_directory, 'ncbi_downloads')\n",
    "    if not os.path.exists(working_dir):\n",
    "        os.mkdir(working_dir)\n",
    "        \n",
    "    download_result = []\n",
    "    for taxid in taxid_queries:\n",
    "        download_result.append(download_reference_genome(taxid, working_dir))\n",
    "        \n",
    "    unpack(working_dir, output_directory)\n",
    "    reference_metadata = pd.DataFrame(download_result,\n",
    "                                      columns=['Taxonomy ID', \n",
    "                                               'Assembly Accession ID', \n",
    "                                               'Source Database', \n",
    "                                               'Is Representative', \n",
    "                                               'Assembly Level', \n",
    "                                               'Organism of Assembly',\n",
    "                                               'Strain',\n",
    "                                               'Downloaded'])\n",
    "    \n",
    "    taxonomy_name = []\n",
    "    for taxid in reference_metadata['Taxonomy ID']:\n",
    "        taxonomy_name.append(ncbi_taxa_db.get_taxid_translator([taxid])[taxid])\n",
    "    reference_metadata['Species'] = taxonomy_name\n",
    "    \n",
    "    reference_metadata.to_csv(os.path.join(output_directory, 'reference_metadata.csv'), index=False)\n",
    "    cat_reference_genome(reference_metadata, output_directory, reference_genome_path=os.path.join(output_directory, 'reference_genomes'))\n",
    "    \n",
    "    return reference_metadata"
   ]
  },
  {
   "cell_type": "markdown",
   "id": "c83020db-749d-4676-b2da-bb483e9e28f6",
   "metadata": {},
   "source": [
    "## Load ETE3 NCBITaxa"
   ]
  },
  {
   "cell_type": "code",
   "execution_count": null,
   "id": "8719997e-dc12-4c48-aa76-87452061ae1a",
   "metadata": {},
   "outputs": [],
   "source": [
    "database_path = '/home/dbs/SeqScreenDB_21.4'\n",
    "\n",
    "ete3db = os.path.join(database_path, \"reference_inference\", \"taxa.sqlite\")\n",
    "sequences_db_f = os.path.join(database_path, \"bowtie2\", \"blacklist.seqs.nt.fna\")\n",
    "mapping_f = os.path.join(database_path, \"reference_inference\", \"taxid2seqid.pickle\")\n",
    "\n",
    "ncbi_taxa_db = NCBITaxa(dbfile=ete3db)"
   ]
  },
  {
   "cell_type": "code",
   "execution_count": null,
   "id": "ad2b11f6-e9f9-464f-bf04-92596715da42",
   "metadata": {},
   "outputs": [],
   "source": [
    "# ncbi.update_taxonomy_database()"
   ]
  },
  {
   "cell_type": "markdown",
   "id": "6fb8cab7-2569-443a-8c11-f1abd13932da",
   "metadata": {},
   "source": [
    "## Filtering Seqscreen Taxonomic Assignment"
   ]
  },
  {
   "cell_type": "code",
   "execution_count": null,
   "id": "e25e0405-273a-4e88-a44a-d8f2bde5f7e1",
   "metadata": {},
   "outputs": [],
   "source": [
    "seqscreen_output = \"/home/Users/yl181/seqscreen_nano/output_datasets/ZymoBIOMICS.STD.Even.ont.seqscreen\"\n",
    "min_frac = 0.002"
   ]
  },
  {
   "cell_type": "code",
   "execution_count": null,
   "id": "fe727ba4-7f9d-40ff-9aeb-711e6be1c344",
   "metadata": {},
   "outputs": [],
   "source": [
    "taxid_queries = filter_seqscreen_taxonomy(seqscreen_output, \n",
    "                                          min_frac=min_frac, \n",
    "                                          ncbi_taxa_db=ncbi_taxa_db, \n",
    "                                          valid_kingdom={2, 4751, 2157, 10239})"
   ]
  },
  {
   "cell_type": "markdown",
   "id": "4a8c51de-5916-4e66-b620-4b0697aee0a3",
   "metadata": {},
   "source": [
    "## Fetch Reference Genomes"
   ]
  },
  {
   "cell_type": "code",
   "execution_count": null,
   "id": "e24b0e98-1811-4a70-8eeb-58c1c4c3ddba",
   "metadata": {},
   "outputs": [],
   "source": [
    "output_directory = \"/home/Users/yl181/seqscreen_nano/test\""
   ]
  },
  {
   "cell_type": "code",
   "execution_count": null,
   "id": "30379c84-a5fb-4c57-9295-cf96c4e74700",
   "metadata": {},
   "outputs": [],
   "source": [
    "reference_metadata = prepare_reference_genomes(taxid_queries, output_directory, ncbi_taxa_db)"
   ]
  },
  {
   "cell_type": "code",
   "execution_count": null,
   "id": "d04504f6-ab98-4268-b337-10b4b8068a28",
   "metadata": {},
   "outputs": [],
   "source": [
    "reference_metadata"
   ]
  },
  {
   "cell_type": "code",
   "execution_count": null,
   "id": "92ea0c2b-9db0-4cd3-bb1e-a9b84a034360",
   "metadata": {},
   "outputs": [],
   "source": [
    "# reference_genome_path = os.path.join(output_directory, 'reference_genomes')"
   ]
  },
  {
   "cell_type": "code",
   "execution_count": null,
   "id": "5b3367de-2e5e-4a72-81ee-7ff6fd666f68",
   "metadata": {},
   "outputs": [],
   "source": [
    "# input_fastq = '/home/Users/yl181/seqscreen_nano/ZymoBIOMICS.STD.Even.ont.raw_sequences/ERR3152364.downsampled.fastq'"
   ]
  },
  {
   "cell_type": "code",
   "execution_count": null,
   "id": "b15290e5-ba4e-40f7-b126-49cc5f9963e9",
   "metadata": {},
   "outputs": [],
   "source": [
    "# downloaded_assemblies = reference_metadata[reference_metadata['Downloaded']]\n",
    "\n",
    "# num_cores = 20\n",
    "\n",
    "# for assembly_id in downloaded_assemblies['Assembly Accession ID']:\n",
    "#     reference_fasta = os.path.join(reference_genome_path, f'{assembly_id}.fasta')\n",
    "#     run_minimap2(input_fastq, reference_fasta, assembly_id, output_directory, threads=num_cores)\n",
    "#     sort_samfile(assembly_id, output_directory, num_cores)\n",
    "#     calculate_depth(assembly_id, output_directory)"
   ]
  },
  {
   "cell_type": "code",
   "execution_count": null,
   "id": "397f9483-7ab3-46b2-8f50-ebaa38ab52c3",
   "metadata": {},
   "outputs": [],
   "source": []
  }
 ],
 "metadata": {
  "kernelspec": {
   "display_name": "Python 3 (ipykernel)",
   "language": "python",
   "name": "python3"
  },
  "language_info": {
   "codemirror_mode": {
    "name": "ipython",
    "version": 3
   },
   "file_extension": ".py",
   "mimetype": "text/x-python",
   "name": "python",
   "nbconvert_exporter": "python",
   "pygments_lexer": "ipython3",
   "version": "3.9.13"
  }
 },
 "nbformat": 4,
 "nbformat_minor": 5
}
