{
 "cells": [
  {
   "cell_type": "code",
   "execution_count": 20,
   "id": "1c2eecdc-31a9-4f82-b2c1-2538d6380aff",
   "metadata": {},
   "outputs": [],
   "source": [
    "import os\n",
    "import subprocess\n",
    "\n",
    "from collections import defaultdict\n",
    "from Bio import Entrez\n",
    "import time\n",
    "\n",
    "import pandas as pd\n",
    "import json\n",
    "from ete3 import NCBITaxa"
   ]
  },
  {
   "cell_type": "code",
   "execution_count": 21,
   "id": "8341b95f-5744-4239-88ec-c83d1f4a5e23",
   "metadata": {},
   "outputs": [],
   "source": [
    "from utils.reference_finder import download_reference_genome, unpack, cat_reference_genome"
   ]
  },
  {
   "cell_type": "code",
   "execution_count": 22,
   "id": "d57e6d3a-483e-4b19-b5a1-39d4e4fd14ee",
   "metadata": {},
   "outputs": [],
   "source": [
    "from utils.alignment import run_minimap2, sort_samfile, calculate_depth"
   ]
  },
  {
   "cell_type": "code",
   "execution_count": 23,
   "id": "08b1fd79-11d4-4d26-87f2-2a09a3447ca7",
   "metadata": {},
   "outputs": [],
   "source": [
    "import warnings\n",
    "warnings.filterwarnings(\"ignore\")"
   ]
  },
  {
   "cell_type": "code",
   "execution_count": 24,
   "id": "22e46ecd-2fa2-487f-883b-06b1f0db5a73",
   "metadata": {},
   "outputs": [],
   "source": [
    "def get_species_taxid(taxid, ncbi_taxa_db, valid_kingdom={2, 4751, 2157, 10239}):\n",
    "    lineage = ncbi_taxa_db.get_lineage(taxid)\n",
    "    if bool(set(lineage) & valid_kingdom):\n",
    "        taxid2rank_dict = ncbi_taxa_db.get_rank(lineage)\n",
    "        for lineage_taxid in taxid2rank_dict:\n",
    "            if taxid2rank_dict[lineage_taxid] == 'species':\n",
    "                return lineage_taxid\n",
    "    return None"
   ]
  },
  {
   "cell_type": "markdown",
   "id": "c83020db-749d-4676-b2da-bb483e9e28f6",
   "metadata": {},
   "source": [
    "## Load ETE3 NCBITaxa"
   ]
  },
  {
   "cell_type": "code",
   "execution_count": 29,
   "id": "8719997e-dc12-4c48-aa76-87452061ae1a",
   "metadata": {},
   "outputs": [],
   "source": [
    "ncbi_taxa_db = NCBITaxa()"
   ]
  },
  {
   "cell_type": "code",
   "execution_count": 30,
   "id": "ad2b11f6-e9f9-464f-bf04-92596715da42",
   "metadata": {},
   "outputs": [],
   "source": [
    "# ncbi.update_taxonomy_database()"
   ]
  },
  {
   "cell_type": "code",
   "execution_count": 31,
   "id": "25c8f3bf-764c-4155-84f3-b05c18643704",
   "metadata": {},
   "outputs": [],
   "source": [
    "valid_kingdom = [2, 4751, 2157, 10239] # bacteria, archaea, viruses, and fungi"
   ]
  },
  {
   "cell_type": "markdown",
   "id": "6fb8cab7-2569-443a-8c11-f1abd13932da",
   "metadata": {},
   "source": [
    "## Filtering Seqscreen Taxonomic Assignment"
   ]
  },
  {
   "cell_type": "code",
   "execution_count": 32,
   "id": "e25e0405-273a-4e88-a44a-d8f2bde5f7e1",
   "metadata": {},
   "outputs": [],
   "source": [
    "seqscreen_output = \"/home/Users/yl181/seqscreen_nano/ZymoBIOMICS.STD.Even.ont.seqscreen\""
   ]
  },
  {
   "cell_type": "code",
   "execution_count": 33,
   "id": "1fe66650-fb49-4eff-a12f-d69c978fa242",
   "metadata": {},
   "outputs": [],
   "source": [
    "classification_result_df = pd.read_csv(os.path.join(seqscreen_output, 'taxonomic_identification', 'taxonomic_assignment', 'taxonomic_results.txt'), sep='\\t')"
   ]
  },
  {
   "cell_type": "code",
   "execution_count": 34,
   "id": "1470b43b-f21f-4cac-8582-a99ba7482f5b",
   "metadata": {},
   "outputs": [],
   "source": [
    "total_read_count, _ = classification_result_df.shape"
   ]
  },
  {
   "cell_type": "code",
   "execution_count": 35,
   "id": "b817f830-f62f-488f-aac9-201053636d0a",
   "metadata": {},
   "outputs": [],
   "source": [
    "taxid_count_dict = defaultdict(int)\n",
    "taxid_species_lookup = dict()\n",
    "error_count = 0\n",
    "for taxid in classification_result_df['taxid']:\n",
    "    \n",
    "    try:\n",
    "        taxid = int(taxid)\n",
    "        try:\n",
    "            species_taxid = taxid_species_lookup[taxid]\n",
    "        except KeyError:\n",
    "            species_taxid = get_species_taxid(taxid, ncbi_taxa_db)\n",
    "            taxid_species_lookup[taxid] = species_taxid\n",
    "            \n",
    "        if species_taxid is not None:\n",
    "            taxid_count_dict[species_taxid] += 1\n",
    "    except ValueError:\n",
    "        error_count += 1"
   ]
  },
  {
   "cell_type": "code",
   "execution_count": 36,
   "id": "6bce04a2-2ce5-458f-a4a4-ed311845f18d",
   "metadata": {},
   "outputs": [],
   "source": [
    "min_frac = 0.002\n",
    "\n",
    "taxid_queries = []\n",
    "for taxid in taxid_count_dict:\n",
    "    if taxid_count_dict[taxid] >= min_frac * total_read_count:\n",
    "        taxid_queries.append(taxid)"
   ]
  },
  {
   "cell_type": "code",
   "execution_count": 37,
   "id": "1046b367-6aaa-4ee1-928d-54345c03c0b3",
   "metadata": {},
   "outputs": [
    {
     "data": {
      "text/plain": [
       "867.288"
      ]
     },
     "execution_count": 37,
     "metadata": {},
     "output_type": "execute_result"
    }
   ],
   "source": [
    "min_frac * total_read_count"
   ]
  },
  {
   "cell_type": "code",
   "execution_count": 38,
   "id": "558de199-2b6d-430a-906f-6b2d7c7067f7",
   "metadata": {},
   "outputs": [
    {
     "data": {
      "text/plain": [
       "21"
      ]
     },
     "execution_count": 38,
     "metadata": {},
     "output_type": "execute_result"
    }
   ],
   "source": [
    "len(taxid_queries)"
   ]
  },
  {
   "cell_type": "markdown",
   "id": "4a8c51de-5916-4e66-b620-4b0697aee0a3",
   "metadata": {},
   "source": [
    "## Fetch Reference Genomes"
   ]
  },
  {
   "cell_type": "code",
   "execution_count": 39,
   "id": "e24b0e98-1811-4a70-8eeb-58c1c4c3ddba",
   "metadata": {},
   "outputs": [],
   "source": [
    "output_directory = \"/home/Users/yl181/seqscreen_nano/ZymoBIOMICS.STD.Even.ont.minimap2\""
   ]
  },
  {
   "cell_type": "code",
   "execution_count": 40,
   "id": "28afcd92-5c64-4d1b-bf0d-056f39490a15",
   "metadata": {},
   "outputs": [],
   "source": [
    "working_dir = os.path.join(output_directory, 'ncbi_downloads') "
   ]
  },
  {
   "cell_type": "code",
   "execution_count": 41,
   "id": "01b5b526-d8ef-4d12-b6e3-688a34c355d4",
   "metadata": {},
   "outputs": [],
   "source": [
    "if not os.path.exists(working_dir):\n",
    "    os.mkdir(working_dir)"
   ]
  },
  {
   "cell_type": "code",
   "execution_count": 42,
   "id": "bf184c1a-9a55-4332-91fa-3cd8e5932218",
   "metadata": {},
   "outputs": [
    {
     "name": "stdout",
     "output_type": "stream",
     "text": [
      "1280       \t GCF_000013425.1\n",
      "1613       \t GCF_022819245.1\n",
      "1351       \t GCF_001598635.1\n",
      "1423       \t GCF_000009045.1\n",
      "287        \t GCF_000006765.1\n",
      "5207       \t GCA_022832995.1\n",
      "1639       \t GCF_000196035.1\n",
      "1642       \t GCF_009648575.1\n",
      "562        \t GCF_000008865.2\n",
      "1638       \t GCF_000763515.1\n",
      "28901      \t GCF_000006945.2\n",
      "1392       \t GCF_000008445.1\n",
      "623        \t GCF_000006925.2\n",
      "573        \t GCF_000240185.1\n",
      "4932       \t GCF_000146045.2\n",
      "96241      \t GCF_006094475.1\n",
      "1590       \t GCF_003269405.1\n",
      "1352       \t GCF_009734005.1\n",
      "294        \t GCF_000730425.1\n",
      "1643       \t GCF_900187315.1\n",
      "176275     \t GCA_014607475.1\n"
     ]
    }
   ],
   "source": [
    "download_result = []\n",
    "\n",
    "for taxid in taxid_queries:\n",
    "    download_result.append(download_reference_genome(taxid, working_dir))"
   ]
  },
  {
   "cell_type": "code",
   "execution_count": 43,
   "id": "9916e284-fa62-4eb6-8b29-324df9b3508e",
   "metadata": {},
   "outputs": [
    {
     "name": "stderr",
     "output_type": "stream",
     "text": [
      "\n",
      "21 archives were successfully processed.\n"
     ]
    }
   ],
   "source": [
    "unpack(working_dir, output_directory)"
   ]
  },
  {
   "cell_type": "code",
   "execution_count": 45,
   "id": "431f565f-4736-4345-8735-f441cc3f0c33",
   "metadata": {},
   "outputs": [],
   "source": [
    "reference_metadata = pd.DataFrame(download_result, columns=['Taxonomy ID', 'Assembly Accession ID', 'Source Database', 'Is Representative', 'Assembly Level', 'Organism of Assembly', 'Downloaded'])"
   ]
  },
  {
   "cell_type": "code",
   "execution_count": 49,
   "id": "d84bca6b-d7fb-4000-bee0-efea6547aa48",
   "metadata": {},
   "outputs": [],
   "source": [
    "taxonomy_name = []\n",
    "\n",
    "for taxid in reference_metadata['Taxonomy ID']:\n",
    "    taxonomy_name.append(ncbi_taxa_db.get_taxid_translator([taxid])[taxid])\n",
    "    \n",
    "reference_metadata['Species'] = taxonomy_name"
   ]
  },
  {
   "cell_type": "code",
   "execution_count": 52,
   "id": "d263418c-2020-4e24-b858-61345bc90087",
   "metadata": {},
   "outputs": [],
   "source": [
    "reference_metadata = reference_metadata[['Taxonomy ID', 'Species', 'Assembly Accession ID', 'Source Database', 'Is Representative', 'Assembly Level', 'Organism of Assembly', 'Downloaded']]"
   ]
  },
  {
   "cell_type": "code",
   "execution_count": 53,
   "id": "62a0bba5-d5d0-40c4-955f-626a9cc4cc9e",
   "metadata": {},
   "outputs": [
    {
     "data": {
      "text/html": [
       "<div>\n",
       "<style scoped>\n",
       "    .dataframe tbody tr th:only-of-type {\n",
       "        vertical-align: middle;\n",
       "    }\n",
       "\n",
       "    .dataframe tbody tr th {\n",
       "        vertical-align: top;\n",
       "    }\n",
       "\n",
       "    .dataframe thead th {\n",
       "        text-align: right;\n",
       "    }\n",
       "</style>\n",
       "<table border=\"1\" class=\"dataframe\">\n",
       "  <thead>\n",
       "    <tr style=\"text-align: right;\">\n",
       "      <th></th>\n",
       "      <th>Taxonomy ID</th>\n",
       "      <th>Species</th>\n",
       "      <th>Assembly Accession ID</th>\n",
       "      <th>Source Database</th>\n",
       "      <th>Is Representative</th>\n",
       "      <th>Assembly Level</th>\n",
       "      <th>Organism of Assembly</th>\n",
       "      <th>Downloaded</th>\n",
       "    </tr>\n",
       "  </thead>\n",
       "  <tbody>\n",
       "    <tr>\n",
       "      <th>0</th>\n",
       "      <td>1280</td>\n",
       "      <td>Staphylococcus aureus</td>\n",
       "      <td>GCF_000013425.1</td>\n",
       "      <td>University of Oklahoma Health Sciences Center</td>\n",
       "      <td>True</td>\n",
       "      <td>Complete Genome</td>\n",
       "      <td>Staphylococcus aureus subsp. aureus NCTC 8325</td>\n",
       "      <td>True</td>\n",
       "    </tr>\n",
       "    <tr>\n",
       "      <th>1</th>\n",
       "      <td>1613</td>\n",
       "      <td>Limosilactobacillus fermentum</td>\n",
       "      <td>GCF_022819245.1</td>\n",
       "      <td>NCBI RefSeq</td>\n",
       "      <td>True</td>\n",
       "      <td>Complete Genome</td>\n",
       "      <td>Limosilactobacillus fermentum</td>\n",
       "      <td>True</td>\n",
       "    </tr>\n",
       "    <tr>\n",
       "      <th>2</th>\n",
       "      <td>1351</td>\n",
       "      <td>Enterococcus faecalis</td>\n",
       "      <td>GCF_001598635.1</td>\n",
       "      <td>NCBI RefSeq</td>\n",
       "      <td>False</td>\n",
       "      <td>Complete Genome</td>\n",
       "      <td>Enterococcus faecalis</td>\n",
       "      <td>True</td>\n",
       "    </tr>\n",
       "    <tr>\n",
       "      <th>3</th>\n",
       "      <td>1423</td>\n",
       "      <td>Bacillus subtilis</td>\n",
       "      <td>GCF_000009045.1</td>\n",
       "      <td>BSNR</td>\n",
       "      <td>True</td>\n",
       "      <td>Complete Genome</td>\n",
       "      <td>Bacillus subtilis subsp. subtilis str. 168</td>\n",
       "      <td>True</td>\n",
       "    </tr>\n",
       "    <tr>\n",
       "      <th>4</th>\n",
       "      <td>287</td>\n",
       "      <td>Pseudomonas aeruginosa</td>\n",
       "      <td>GCF_000006765.1</td>\n",
       "      <td>PathoGenesis Corporation</td>\n",
       "      <td>True</td>\n",
       "      <td>Complete Genome</td>\n",
       "      <td>Pseudomonas aeruginosa PAO1</td>\n",
       "      <td>True</td>\n",
       "    </tr>\n",
       "    <tr>\n",
       "      <th>5</th>\n",
       "      <td>5207</td>\n",
       "      <td>Cryptococcus neoformans</td>\n",
       "      <td>GCA_022832995.1</td>\n",
       "      <td>Broad Institute</td>\n",
       "      <td>False</td>\n",
       "      <td>Complete Genome</td>\n",
       "      <td>Cryptococcus neoformans</td>\n",
       "      <td>True</td>\n",
       "    </tr>\n",
       "    <tr>\n",
       "      <th>6</th>\n",
       "      <td>1639</td>\n",
       "      <td>Listeria monocytogenes</td>\n",
       "      <td>GCF_000196035.1</td>\n",
       "      <td>European Consortium</td>\n",
       "      <td>True</td>\n",
       "      <td>Complete Genome</td>\n",
       "      <td>Listeria monocytogenes EGD-e</td>\n",
       "      <td>True</td>\n",
       "    </tr>\n",
       "    <tr>\n",
       "      <th>7</th>\n",
       "      <td>1642</td>\n",
       "      <td>Listeria innocua</td>\n",
       "      <td>GCF_009648575.1</td>\n",
       "      <td>NCBI RefSeq</td>\n",
       "      <td>True</td>\n",
       "      <td>Complete Genome</td>\n",
       "      <td>Listeria innocua</td>\n",
       "      <td>True</td>\n",
       "    </tr>\n",
       "    <tr>\n",
       "      <th>8</th>\n",
       "      <td>562</td>\n",
       "      <td>Escherichia coli</td>\n",
       "      <td>GCF_000008865.2</td>\n",
       "      <td>GIRC</td>\n",
       "      <td>True</td>\n",
       "      <td>Complete Genome</td>\n",
       "      <td>Escherichia coli O157:H7 str. Sakai</td>\n",
       "      <td>True</td>\n",
       "    </tr>\n",
       "    <tr>\n",
       "      <th>9</th>\n",
       "      <td>1638</td>\n",
       "      <td>Listeria ivanovii</td>\n",
       "      <td>GCF_000763515.1</td>\n",
       "      <td>NCBI RefSeq</td>\n",
       "      <td>True</td>\n",
       "      <td>Complete Genome</td>\n",
       "      <td>Listeria ivanovii subsp. ivanovii</td>\n",
       "      <td>True</td>\n",
       "    </tr>\n",
       "    <tr>\n",
       "      <th>10</th>\n",
       "      <td>28901</td>\n",
       "      <td>Salmonella enterica</td>\n",
       "      <td>GCF_000006945.2</td>\n",
       "      <td>Washington University Genome Sequencing Center</td>\n",
       "      <td>True</td>\n",
       "      <td>Complete Genome</td>\n",
       "      <td>Salmonella enterica subsp. enterica serovar Ty...</td>\n",
       "      <td>True</td>\n",
       "    </tr>\n",
       "    <tr>\n",
       "      <th>11</th>\n",
       "      <td>1392</td>\n",
       "      <td>Bacillus anthracis</td>\n",
       "      <td>GCF_000008445.1</td>\n",
       "      <td>NCBI RefSeq</td>\n",
       "      <td>True</td>\n",
       "      <td>Complete Genome</td>\n",
       "      <td>Bacillus anthracis str. 'Ames Ancestor'</td>\n",
       "      <td>True</td>\n",
       "    </tr>\n",
       "    <tr>\n",
       "      <th>12</th>\n",
       "      <td>623</td>\n",
       "      <td>Shigella flexneri</td>\n",
       "      <td>GCF_000006925.2</td>\n",
       "      <td>Microbial Genome Center of ChMPH</td>\n",
       "      <td>True</td>\n",
       "      <td>Complete Genome</td>\n",
       "      <td>Shigella flexneri 2a str. 301</td>\n",
       "      <td>True</td>\n",
       "    </tr>\n",
       "    <tr>\n",
       "      <th>13</th>\n",
       "      <td>573</td>\n",
       "      <td>Klebsiella pneumoniae</td>\n",
       "      <td>GCF_000240185.1</td>\n",
       "      <td>Bioinformatics &amp; Microbial Genomics, State Ke...</td>\n",
       "      <td>True</td>\n",
       "      <td>Complete Genome</td>\n",
       "      <td>Klebsiella pneumoniae subsp. pneumoniae HS11286</td>\n",
       "      <td>True</td>\n",
       "    </tr>\n",
       "    <tr>\n",
       "      <th>14</th>\n",
       "      <td>4932</td>\n",
       "      <td>Saccharomyces cerevisiae</td>\n",
       "      <td>GCF_000146045.2</td>\n",
       "      <td>Saccharomyces Genome Database</td>\n",
       "      <td>True</td>\n",
       "      <td>Complete Genome</td>\n",
       "      <td>Saccharomyces cerevisiae S288C</td>\n",
       "      <td>True</td>\n",
       "    </tr>\n",
       "    <tr>\n",
       "      <th>15</th>\n",
       "      <td>96241</td>\n",
       "      <td>Bacillus spizizenii</td>\n",
       "      <td>GCF_006094475.1</td>\n",
       "      <td>NCBI RefSeq</td>\n",
       "      <td>True</td>\n",
       "      <td>Complete Genome</td>\n",
       "      <td>Bacillus subtilis subsp. spizizenii ATCC 6633 ...</td>\n",
       "      <td>True</td>\n",
       "    </tr>\n",
       "    <tr>\n",
       "      <th>16</th>\n",
       "      <td>1590</td>\n",
       "      <td>Lactiplantibacillus plantarum</td>\n",
       "      <td>GCF_003269405.1</td>\n",
       "      <td>NCBI RefSeq</td>\n",
       "      <td>True</td>\n",
       "      <td>Complete Genome</td>\n",
       "      <td>Lactiplantibacillus plantarum</td>\n",
       "      <td>True</td>\n",
       "    </tr>\n",
       "    <tr>\n",
       "      <th>17</th>\n",
       "      <td>1352</td>\n",
       "      <td>Enterococcus faecium</td>\n",
       "      <td>GCF_009734005.1</td>\n",
       "      <td>NCBI RefSeq</td>\n",
       "      <td>True</td>\n",
       "      <td>Complete Genome</td>\n",
       "      <td>Enterococcus faecium</td>\n",
       "      <td>True</td>\n",
       "    </tr>\n",
       "    <tr>\n",
       "      <th>18</th>\n",
       "      <td>294</td>\n",
       "      <td>Pseudomonas fluorescens</td>\n",
       "      <td>GCF_000730425.1</td>\n",
       "      <td>NCBI RefSeq</td>\n",
       "      <td>False</td>\n",
       "      <td>Complete Genome</td>\n",
       "      <td>Pseudomonas fluorescens</td>\n",
       "      <td>True</td>\n",
       "    </tr>\n",
       "    <tr>\n",
       "      <th>19</th>\n",
       "      <td>1643</td>\n",
       "      <td>Listeria welshimeri</td>\n",
       "      <td>GCF_900187315.1</td>\n",
       "      <td>NCBI RefSeq</td>\n",
       "      <td>True</td>\n",
       "      <td>Complete Genome</td>\n",
       "      <td>Listeria welshimeri</td>\n",
       "      <td>True</td>\n",
       "    </tr>\n",
       "    <tr>\n",
       "      <th>20</th>\n",
       "      <td>176275</td>\n",
       "      <td>Beauveria bassiana</td>\n",
       "      <td>GCA_014607475.1</td>\n",
       "      <td>None</td>\n",
       "      <td>False</td>\n",
       "      <td>Complete Genome</td>\n",
       "      <td>Beauveria bassiana</td>\n",
       "      <td>True</td>\n",
       "    </tr>\n",
       "  </tbody>\n",
       "</table>\n",
       "</div>"
      ],
      "text/plain": [
       "    Taxonomy ID                        Species Assembly Accession ID  \\\n",
       "0          1280          Staphylococcus aureus       GCF_000013425.1   \n",
       "1          1613  Limosilactobacillus fermentum       GCF_022819245.1   \n",
       "2          1351          Enterococcus faecalis       GCF_001598635.1   \n",
       "3          1423              Bacillus subtilis       GCF_000009045.1   \n",
       "4           287         Pseudomonas aeruginosa       GCF_000006765.1   \n",
       "5          5207        Cryptococcus neoformans       GCA_022832995.1   \n",
       "6          1639         Listeria monocytogenes       GCF_000196035.1   \n",
       "7          1642               Listeria innocua       GCF_009648575.1   \n",
       "8           562               Escherichia coli       GCF_000008865.2   \n",
       "9          1638              Listeria ivanovii       GCF_000763515.1   \n",
       "10        28901            Salmonella enterica       GCF_000006945.2   \n",
       "11         1392             Bacillus anthracis       GCF_000008445.1   \n",
       "12          623              Shigella flexneri       GCF_000006925.2   \n",
       "13          573          Klebsiella pneumoniae       GCF_000240185.1   \n",
       "14         4932       Saccharomyces cerevisiae       GCF_000146045.2   \n",
       "15        96241            Bacillus spizizenii       GCF_006094475.1   \n",
       "16         1590  Lactiplantibacillus plantarum       GCF_003269405.1   \n",
       "17         1352           Enterococcus faecium       GCF_009734005.1   \n",
       "18          294        Pseudomonas fluorescens       GCF_000730425.1   \n",
       "19         1643            Listeria welshimeri       GCF_900187315.1   \n",
       "20       176275             Beauveria bassiana       GCA_014607475.1   \n",
       "\n",
       "                                      Source Database  Is Representative  \\\n",
       "0       University of Oklahoma Health Sciences Center               True   \n",
       "1                                         NCBI RefSeq               True   \n",
       "2                                         NCBI RefSeq              False   \n",
       "3                                                BSNR               True   \n",
       "4                            PathoGenesis Corporation               True   \n",
       "5                                     Broad Institute              False   \n",
       "6                                 European Consortium               True   \n",
       "7                                         NCBI RefSeq               True   \n",
       "8                                                GIRC               True   \n",
       "9                                         NCBI RefSeq               True   \n",
       "10     Washington University Genome Sequencing Center               True   \n",
       "11                                        NCBI RefSeq               True   \n",
       "12                   Microbial Genome Center of ChMPH               True   \n",
       "13   Bioinformatics & Microbial Genomics, State Ke...               True   \n",
       "14                      Saccharomyces Genome Database               True   \n",
       "15                                        NCBI RefSeq               True   \n",
       "16                                        NCBI RefSeq               True   \n",
       "17                                        NCBI RefSeq               True   \n",
       "18                                        NCBI RefSeq              False   \n",
       "19                                        NCBI RefSeq               True   \n",
       "20                                               None              False   \n",
       "\n",
       "     Assembly Level                               Organism of Assembly  \\\n",
       "0   Complete Genome      Staphylococcus aureus subsp. aureus NCTC 8325   \n",
       "1   Complete Genome                      Limosilactobacillus fermentum   \n",
       "2   Complete Genome                              Enterococcus faecalis   \n",
       "3   Complete Genome         Bacillus subtilis subsp. subtilis str. 168   \n",
       "4   Complete Genome                        Pseudomonas aeruginosa PAO1   \n",
       "5   Complete Genome                            Cryptococcus neoformans   \n",
       "6   Complete Genome                       Listeria monocytogenes EGD-e   \n",
       "7   Complete Genome                                   Listeria innocua   \n",
       "8   Complete Genome                Escherichia coli O157:H7 str. Sakai   \n",
       "9   Complete Genome                  Listeria ivanovii subsp. ivanovii   \n",
       "10  Complete Genome  Salmonella enterica subsp. enterica serovar Ty...   \n",
       "11  Complete Genome            Bacillus anthracis str. 'Ames Ancestor'   \n",
       "12  Complete Genome                      Shigella flexneri 2a str. 301   \n",
       "13  Complete Genome    Klebsiella pneumoniae subsp. pneumoniae HS11286   \n",
       "14  Complete Genome                     Saccharomyces cerevisiae S288C   \n",
       "15  Complete Genome  Bacillus subtilis subsp. spizizenii ATCC 6633 ...   \n",
       "16  Complete Genome                      Lactiplantibacillus plantarum   \n",
       "17  Complete Genome                               Enterococcus faecium   \n",
       "18  Complete Genome                            Pseudomonas fluorescens   \n",
       "19  Complete Genome                                Listeria welshimeri   \n",
       "20  Complete Genome                                 Beauveria bassiana   \n",
       "\n",
       "    Downloaded  \n",
       "0         True  \n",
       "1         True  \n",
       "2         True  \n",
       "3         True  \n",
       "4         True  \n",
       "5         True  \n",
       "6         True  \n",
       "7         True  \n",
       "8         True  \n",
       "9         True  \n",
       "10        True  \n",
       "11        True  \n",
       "12        True  \n",
       "13        True  \n",
       "14        True  \n",
       "15        True  \n",
       "16        True  \n",
       "17        True  \n",
       "18        True  \n",
       "19        True  \n",
       "20        True  "
      ]
     },
     "execution_count": 53,
     "metadata": {},
     "output_type": "execute_result"
    }
   ],
   "source": [
    "reference_metadata.to_csv(os.path.join(output_directory, 'reference_metadata.csv'), index=False)\n",
    "reference_metadata"
   ]
  },
  {
   "cell_type": "code",
   "execution_count": 54,
   "id": "5ca51190-bcd9-43a2-aa66-313f7a0f9368",
   "metadata": {},
   "outputs": [],
   "source": [
    "cat_reference_genome(reference_metadata, output_directory, reference_genome_path=os.path.join(output_directory, 'reference_genomes'))"
   ]
  },
  {
   "cell_type": "code",
   "execution_count": 31,
   "id": "92ea0c2b-9db0-4cd3-bb1e-a9b84a034360",
   "metadata": {},
   "outputs": [],
   "source": [
    "# reference_genome_path = os.path.join(output_directory, 'reference_genomes')"
   ]
  },
  {
   "cell_type": "code",
   "execution_count": 32,
   "id": "5b3367de-2e5e-4a72-81ee-7ff6fd666f68",
   "metadata": {},
   "outputs": [],
   "source": [
    "# input_fastq = '/home/Users/yl181/seqscreen_nano/ZymoBIOMICS.STD.Even.ont.raw_sequences/ERR3152364.downsampled.fastq'"
   ]
  },
  {
   "cell_type": "code",
   "execution_count": 33,
   "id": "b15290e5-ba4e-40f7-b126-49cc5f9963e9",
   "metadata": {},
   "outputs": [],
   "source": [
    "# downloaded_assemblies = reference_metadata[reference_metadata['Downloaded']]\n",
    "\n",
    "# num_cores = 20\n",
    "\n",
    "# for assembly_id in downloaded_assemblies['Assembly Accession ID']:\n",
    "#     reference_fasta = os.path.join(reference_genome_path, f'{assembly_id}.fasta')\n",
    "#     run_minimap2(input_fastq, reference_fasta, assembly_id, output_directory, threads=num_cores)\n",
    "#     sort_samfile(assembly_id, output_directory, num_cores)\n",
    "#     calculate_depth(assembly_id, output_directory)"
   ]
  },
  {
   "cell_type": "code",
   "execution_count": null,
   "id": "397f9483-7ab3-46b2-8f50-ebaa38ab52c3",
   "metadata": {},
   "outputs": [],
   "source": []
  }
 ],
 "metadata": {
  "kernelspec": {
   "display_name": "Python 3 (ipykernel)",
   "language": "python",
   "name": "python3"
  },
  "language_info": {
   "codemirror_mode": {
    "name": "ipython",
    "version": 3
   },
   "file_extension": ".py",
   "mimetype": "text/x-python",
   "name": "python",
   "nbconvert_exporter": "python",
   "pygments_lexer": "ipython3",
   "version": "3.7.12"
  }
 },
 "nbformat": 4,
 "nbformat_minor": 5
}
