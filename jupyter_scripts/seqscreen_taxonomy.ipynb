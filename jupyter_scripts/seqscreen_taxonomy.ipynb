{
 "cells": [
  {
   "cell_type": "code",
   "execution_count": null,
   "id": "1c2eecdc-31a9-4f82-b2c1-2538d6380aff",
   "metadata": {},
   "outputs": [],
   "source": [
    "import os\n",
    "import subprocess\n",
    "import sys\n",
    "import math\n",
    "from collections import defaultdict\n",
    "from Bio import Entrez\n",
    "import time\n",
    "\n",
    "import pandas as pd\n",
    "import json\n",
    "from ete3 import NCBITaxa\n",
    "from Bio import SeqIO"
   ]
  },
  {
   "cell_type": "code",
   "execution_count": null,
   "id": "f79aa254-97a1-4867-a88c-5675a5347495",
   "metadata": {},
   "outputs": [],
   "source": [
    "sys.path.insert(0, '../utils')\n",
    "from reference_finder import download_reference_genome, unpack, cat_reference_genome\n",
    "from alignment import run_minimap2, sort_samfile, samtools_calculate_depth\n",
    "from summary import alignment_1_summary, alignment_2_summary"
   ]
  },
  {
   "cell_type": "code",
   "execution_count": null,
   "id": "08b1fd79-11d4-4d26-87f2-2a09a3447ca7",
   "metadata": {},
   "outputs": [],
   "source": [
    "import warnings\n",
    "warnings.filterwarnings(\"ignore\")"
   ]
  },
  {
   "cell_type": "code",
   "execution_count": null,
   "id": "22e46ecd-2fa2-487f-883b-06b1f0db5a73",
   "metadata": {},
   "outputs": [],
   "source": [
    "def get_species_taxid(taxid, ncbi_taxa_db, valid_kingdom={2, 4751, 2157, 10239}):\n",
    "    lineage = ncbi_taxa_db.get_lineage(taxid)\n",
    "    if bool(set(lineage) & valid_kingdom):\n",
    "        taxid2rank_dict = ncbi_taxa_db.get_rank(lineage)\n",
    "        for lineage_taxid in taxid2rank_dict:\n",
    "            if taxid2rank_dict[lineage_taxid] == 'species':\n",
    "                return lineage_taxid\n",
    "    return None"
   ]
  },
  {
   "cell_type": "code",
   "execution_count": null,
   "id": "aca8de42-c709-497c-b573-9f3b091756a3",
   "metadata": {},
   "outputs": [],
   "source": [
    "def filter_seqscreen_taxonomy(seqscreen_output, min_frac, ncbi_taxa_db, valid_kingdom):\n",
    "    classification_result_df = pd.read_csv(os.path.join(seqscreen_output, \n",
    "                                                        'taxonomic_identification', \n",
    "                                                        'taxonomic_assignment', \n",
    "                                                        'taxonomic_results.txt'), \n",
    "                                           sep='\\t')\n",
    "    total_read_count, _ = classification_result_df.shape\n",
    "    \n",
    "    taxid_count_dict = defaultdict(int)\n",
    "    taxid_species_lookup = dict()\n",
    "    error_count = 0\n",
    "    for taxid in classification_result_df['taxid']:\n",
    "        try:\n",
    "            taxid = int(taxid)\n",
    "            try:\n",
    "                species_taxid = taxid_species_lookup[taxid]\n",
    "            except KeyError:\n",
    "                species_taxid = get_species_taxid(taxid, ncbi_taxa_db, valid_kingdom)\n",
    "                taxid_species_lookup[taxid] = species_taxid\n",
    "\n",
    "            if species_taxid is not None:\n",
    "                taxid_count_dict[species_taxid] += 1\n",
    "        except ValueError:\n",
    "            error_count += 1\n",
    "\n",
    "    taxid_queries = []\n",
    "    for taxid in taxid_count_dict:\n",
    "        if taxid_count_dict[taxid] >= min_frac * total_read_count:\n",
    "            taxid_queries.append(taxid)\n",
    "            \n",
    "    return taxid_queries"
   ]
  },
  {
   "cell_type": "code",
   "execution_count": null,
   "id": "5d2ba1d0-ccca-4f0e-b3fb-f652e8be287a",
   "metadata": {},
   "outputs": [],
   "source": [
    "def prepare_reference_genomes(taxid_queries, output_directory, ncbi_taxa_db):\n",
    "    working_dir = os.path.join(output_directory, 'ncbi_downloads')\n",
    "    if not os.path.exists(working_dir):\n",
    "        os.mkdir(working_dir)\n",
    "        \n",
    "    download_result = []\n",
    "    for taxid in taxid_queries:\n",
    "        download_result.append(download_reference_genome(taxid, working_dir))\n",
    "        \n",
    "    unpack(working_dir, output_directory)\n",
    "    reference_metadata = pd.DataFrame(download_result,\n",
    "                                      columns=['Taxonomy ID', \n",
    "                                               'Assembly Accession ID', \n",
    "                                               'Source Database', \n",
    "                                               'Is Representative', \n",
    "                                               'Assembly Level', \n",
    "                                               'Organism of Assembly',\n",
    "                                               'Strain',\n",
    "                                               'Downloaded'])\n",
    "    \n",
    "    taxonomy_name = []\n",
    "    for taxid in reference_metadata['Taxonomy ID']:\n",
    "        taxonomy_name.append(ncbi_taxa_db.get_taxid_translator([taxid])[taxid])\n",
    "    reference_metadata['Species'] = taxonomy_name\n",
    "    \n",
    "    reference_metadata.to_csv(os.path.join(output_directory, 'reference_metadata.csv'), index=False)\n",
    "    cat_reference_genome(reference_metadata, output_directory, reference_genome_path=os.path.join(output_directory, 'reference_genomes'))\n",
    "    \n",
    "    return reference_metadata"
   ]
  },
  {
   "cell_type": "markdown",
   "id": "c83020db-749d-4676-b2da-bb483e9e28f6",
   "metadata": {},
   "source": [
    "## Load ETE3 NCBITaxa"
   ]
  },
  {
   "cell_type": "code",
   "execution_count": null,
   "id": "8719997e-dc12-4c48-aa76-87452061ae1a",
   "metadata": {},
   "outputs": [],
   "source": [
    "database_path = '/home/dbs/SeqScreenDB_21.4'\n",
    "\n",
    "ete3db = os.path.join(database_path, \"reference_inference\", \"taxa.sqlite\")\n",
    "sequences_db_f = os.path.join(database_path, \"bowtie2\", \"blacklist.seqs.nt.fna\")\n",
    "mapping_f = os.path.join(database_path, \"reference_inference\", \"taxid2seqid.pickle\")\n",
    "\n",
    "ncbi_taxa_db = NCBITaxa(dbfile=ete3db)"
   ]
  },
  {
   "cell_type": "code",
   "execution_count": null,
   "id": "e24b0e98-1811-4a70-8eeb-58c1c4c3ddba",
   "metadata": {},
   "outputs": [],
   "source": [
    "output_directory = \"/home/Users/yl181/seqscreen_nano/test\""
   ]
  },
  {
   "cell_type": "code",
   "execution_count": null,
   "id": "e25e0405-273a-4e88-a44a-d8f2bde5f7e1",
   "metadata": {},
   "outputs": [],
   "source": [
    "input_fasta = '/home/Users/yl181/seqscreen_nano/input_datasets/ERR3152364.downsampled.fasta'\n",
    "seqscreen_output = \"/home/Users/yl181/seqscreen_nano/output_datasets/ZymoBIOMICS.STD.Even.ont.seqscreen\"\n",
    "threads = 40\n",
    "min_frac = 0.002\n",
    "min_mapq = 20\n",
    "min_coverage_score = 0.7"
   ]
  },
  {
   "cell_type": "code",
   "execution_count": null,
   "id": "ad2b11f6-e9f9-464f-bf04-92596715da42",
   "metadata": {},
   "outputs": [],
   "source": [
    "# ncbi.update_taxonomy_database()"
   ]
  },
  {
   "cell_type": "markdown",
   "id": "6fb8cab7-2569-443a-8c11-f1abd13932da",
   "metadata": {},
   "source": [
    "## Filtering Seqscreen Taxonomic Assignment"
   ]
  },
  {
   "cell_type": "code",
   "execution_count": null,
   "id": "fe727ba4-7f9d-40ff-9aeb-711e6be1c344",
   "metadata": {},
   "outputs": [],
   "source": [
    "taxid_queries = filter_seqscreen_taxonomy(seqscreen_output, \n",
    "                                          min_frac=min_frac, \n",
    "                                          ncbi_taxa_db=ncbi_taxa_db, \n",
    "                                          valid_kingdom={2, 4751, 2157, 10239})"
   ]
  },
  {
   "cell_type": "markdown",
   "id": "4a8c51de-5916-4e66-b620-4b0697aee0a3",
   "metadata": {},
   "source": [
    "## Fetch Reference Genomes"
   ]
  },
  {
   "cell_type": "code",
   "execution_count": null,
   "id": "30379c84-a5fb-4c57-9295-cf96c4e74700",
   "metadata": {},
   "outputs": [],
   "source": [
    "reference_metadata = prepare_reference_genomes(taxid_queries, output_directory, ncbi_taxa_db)"
   ]
  },
  {
   "cell_type": "code",
   "execution_count": null,
   "id": "aef231fe-a8dd-4847-9e4a-fdc261326174",
   "metadata": {},
   "outputs": [],
   "source": [
    "reference_metadata = pd.read_csv(os.path.join(output_directory, 'reference_metadata.csv'))"
   ]
  },
  {
   "cell_type": "code",
   "execution_count": null,
   "id": "b15290e5-ba4e-40f7-b126-49cc5f9963e9",
   "metadata": {},
   "outputs": [],
   "source": [
    "downloaded_assemblies = reference_metadata[reference_metadata['Downloaded']]\n",
    "for assembly_id in downloaded_assemblies['Assembly Accession ID']:\n",
    "    reference_fasta = os.path.join(output_directory, 'reference_genomes', f'{assembly_id}.fasta')\n",
    "    run_minimap2(input_fasta, reference_fasta, assembly_id, output_directory, threads=threads)\n",
    "    sort_samfile(assembly_id, output_directory, min_mapq, threads)\n",
    "    samtools_calculate_depth(assembly_id, output_directory)"
   ]
  },
  {
   "cell_type": "code",
   "execution_count": null,
   "id": "d04504f6-ab98-4268-b337-10b4b8068a28",
   "metadata": {},
   "outputs": [],
   "source": [
    "reference_metadata"
   ]
  },
  {
   "cell_type": "code",
   "execution_count": null,
   "id": "f717a9ca-da35-424d-885c-0eac72c41a93",
   "metadata": {},
   "outputs": [],
   "source": [
    "downloaded_assemblies = alignment_1_summary(downloaded_assemblies, output_directory)"
   ]
  },
  {
   "cell_type": "code",
   "execution_count": null,
   "id": "e9410c1a-9c0b-4716-b849-986ae01bf0bf",
   "metadata": {},
   "outputs": [],
   "source": [
    "#downloaded_assemblies.sort_values('Coverage Score', ascending=False)"
   ]
  },
  {
   "cell_type": "code",
   "execution_count": null,
   "id": "8cdabbd0-efd5-4fd0-8273-05b84f30af12",
   "metadata": {},
   "outputs": [],
   "source": [
    "filtered_assemblies = list(downloaded_assemblies[downloaded_assemblies['Coverage Score'] >= min_coverage_score]['Assembly Accession ID'])"
   ]
  },
  {
   "cell_type": "code",
   "execution_count": null,
   "id": "b3f06263-1145-4bfe-9203-c75458c87edd",
   "metadata": {},
   "outputs": [],
   "source": [
    "def merge_reference_fasta(assembly_ids, output_directory):\n",
    "    merged_fasta = os.path.join(output_directory, 'reference_genomes', f'merged.fasta')\n",
    "    \n",
    "    seq_records = []\n",
    "    for assembly_id in assembly_ids:\n",
    "        reference_fasta = os.path.join(output_directory, 'reference_genomes', f'{assembly_id}.fasta')\n",
    "\n",
    "        with open(reference_fasta, \"r\") as handle:\n",
    "            for record in SeqIO.parse(handle, \"fasta\"):   \n",
    "                seq_records.append(record)\n",
    "                    \n",
    "    with open(merged_fasta, \"w\") as output_handle:\n",
    "        SeqIO.write(seq_records, output_handle, \"fasta\")\n",
    "\t\t\n",
    "    return merged_fasta"
   ]
  },
  {
   "cell_type": "code",
   "execution_count": null,
   "id": "804f0b53-a302-4f0c-b452-89ad24f518bb",
   "metadata": {},
   "outputs": [],
   "source": [
    "reference_fasta = merge_reference_fasta(filtered_assemblies, output_directory)\n",
    "run_minimap2(input_fasta, reference_fasta, 'merged', output_directory, threads=threads)\n",
    "sort_samfile('merged', output_directory, min_mapq, threads)\n",
    "samtools_calculate_depth('merged', output_directory)"
   ]
  },
  {
   "cell_type": "code",
   "execution_count": null,
   "id": "1211462f-a946-430b-b934-bd1abe4c1cdd",
   "metadata": {},
   "outputs": [],
   "source": [
    "downloaded_assemblies = pd.read_csv(os.path.join(output_directory, 'alignment.csv'))"
   ]
  },
  {
   "cell_type": "code",
   "execution_count": null,
   "id": "01e2c33a-fbb5-481d-b399-0b86e232bc77",
   "metadata": {},
   "outputs": [],
   "source": [
    "downloaded_assemblies = alignment_2_summary(downloaded_assemblies, output_directory)"
   ]
  },
  {
   "cell_type": "code",
   "execution_count": null,
   "id": "aa1ba9b4-8a96-40d0-ad41-1519f88c9079",
   "metadata": {},
   "outputs": [],
   "source": [
    "downloaded_assemblies.sort_values('CS2', ascending=False)"
   ]
  },
  {
   "cell_type": "code",
   "execution_count": null,
   "id": "8a64aefc-0d00-4a9f-ab05-7f5eb7a85864",
   "metadata": {},
   "outputs": [],
   "source": []
  }
 ],
 "metadata": {
  "kernelspec": {
   "display_name": "Python 3 (ipykernel)",
   "language": "python",
   "name": "python3"
  },
  "language_info": {
   "codemirror_mode": {
    "name": "ipython",
    "version": 3
   },
   "file_extension": ".py",
   "mimetype": "text/x-python",
   "name": "python",
   "nbconvert_exporter": "python",
   "pygments_lexer": "ipython3",
   "version": "3.9.13"
  }
 },
 "nbformat": 4,
 "nbformat_minor": 5
}
