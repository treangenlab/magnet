{
 "cells": [
  {
   "cell_type": "code",
   "execution_count": null,
   "id": "1c2eecdc-31a9-4f82-b2c1-2538d6380aff",
   "metadata": {},
   "outputs": [],
   "source": [
    "import os\n",
    "import subprocess\n",
    "import sys\n",
    "\n",
    "from collections import defaultdict\n",
    "from Bio import Entrez\n",
    "import time\n",
    "\n",
    "import pandas as pd\n",
    "import json\n",
    "from ete3 import NCBITaxa"
   ]
  },
  {
   "cell_type": "code",
   "execution_count": null,
   "id": "f79aa254-97a1-4867-a88c-5675a5347495",
   "metadata": {},
   "outputs": [],
   "source": [
    "sys.path.insert(0, '../utils')\n",
    "from reference_finder import download_reference_genome, unpack, cat_reference_genome\n",
    "from alignment import run_minimap2, sort_samfile, calculate_depth"
   ]
  },
  {
   "cell_type": "code",
   "execution_count": null,
   "id": "08b1fd79-11d4-4d26-87f2-2a09a3447ca7",
   "metadata": {},
   "outputs": [],
   "source": [
    "import warnings\n",
    "warnings.filterwarnings(\"ignore\")"
   ]
  },
  {
   "cell_type": "code",
   "execution_count": null,
   "id": "22e46ecd-2fa2-487f-883b-06b1f0db5a73",
   "metadata": {},
   "outputs": [],
   "source": [
    "def get_species_taxid(taxid, ncbi_taxa_db, valid_kingdom={2, 4751, 2157, 10239}):\n",
    "    lineage = ncbi_taxa_db.get_lineage(taxid)\n",
    "    if bool(set(lineage) & valid_kingdom):\n",
    "        taxid2rank_dict = ncbi_taxa_db.get_rank(lineage)\n",
    "        for lineage_taxid in taxid2rank_dict:\n",
    "            if taxid2rank_dict[lineage_taxid] == 'species':\n",
    "                return lineage_taxid\n",
    "    return None"
   ]
  },
  {
   "cell_type": "markdown",
   "id": "c83020db-749d-4676-b2da-bb483e9e28f6",
   "metadata": {},
   "source": [
    "## Load ETE3 NCBITaxa"
   ]
  },
  {
   "cell_type": "code",
   "execution_count": null,
   "id": "8719997e-dc12-4c48-aa76-87452061ae1a",
   "metadata": {},
   "outputs": [],
   "source": [
    "ncbi_taxa_db = NCBITaxa()"
   ]
  },
  {
   "cell_type": "code",
   "execution_count": null,
   "id": "ad2b11f6-e9f9-464f-bf04-92596715da42",
   "metadata": {},
   "outputs": [],
   "source": [
    "# ncbi.update_taxonomy_database()"
   ]
  },
  {
   "cell_type": "code",
   "execution_count": null,
   "id": "25c8f3bf-764c-4155-84f3-b05c18643704",
   "metadata": {},
   "outputs": [],
   "source": [
    "valid_kingdom = [2, 4751, 2157, 10239] # bacteria, archaea, viruses, and fungi"
   ]
  },
  {
   "cell_type": "markdown",
   "id": "6fb8cab7-2569-443a-8c11-f1abd13932da",
   "metadata": {},
   "source": [
    "## Filtering Seqscreen Taxonomic Assignment"
   ]
  },
  {
   "cell_type": "code",
   "execution_count": null,
   "id": "e25e0405-273a-4e88-a44a-d8f2bde5f7e1",
   "metadata": {},
   "outputs": [],
   "source": [
    "seqscreen_output = \"/home/Users/yl181/seqscreen_nano/output_datasets/ZymoBIOMICS.STD.Even.ont.seqscreen\""
   ]
  },
  {
   "cell_type": "code",
   "execution_count": null,
   "id": "1fe66650-fb49-4eff-a12f-d69c978fa242",
   "metadata": {},
   "outputs": [],
   "source": [
    "classification_result_df = pd.read_csv(os.path.join(seqscreen_output, 'taxonomic_identification', 'taxonomic_assignment', 'taxonomic_results.txt'), sep='\\t')"
   ]
  },
  {
   "cell_type": "code",
   "execution_count": null,
   "id": "1470b43b-f21f-4cac-8582-a99ba7482f5b",
   "metadata": {},
   "outputs": [],
   "source": [
    "total_read_count, _ = classification_result_df.shape"
   ]
  },
  {
   "cell_type": "code",
   "execution_count": null,
   "id": "b817f830-f62f-488f-aac9-201053636d0a",
   "metadata": {},
   "outputs": [],
   "source": [
    "taxid_count_dict = defaultdict(int)\n",
    "taxid_species_lookup = dict()\n",
    "error_count = 0\n",
    "for taxid in classification_result_df['taxid']:\n",
    "    \n",
    "    try:\n",
    "        taxid = int(taxid)\n",
    "        try:\n",
    "            species_taxid = taxid_species_lookup[taxid]\n",
    "        except KeyError:\n",
    "            species_taxid = get_species_taxid(taxid, ncbi_taxa_db)\n",
    "            taxid_species_lookup[taxid] = species_taxid\n",
    "            \n",
    "        if species_taxid is not None:\n",
    "            taxid_count_dict[species_taxid] += 1\n",
    "    except ValueError:\n",
    "        error_count += 1"
   ]
  },
  {
   "cell_type": "code",
   "execution_count": null,
   "id": "6bce04a2-2ce5-458f-a4a4-ed311845f18d",
   "metadata": {},
   "outputs": [],
   "source": [
    "min_frac = 0.002\n",
    "\n",
    "taxid_queries = []\n",
    "for taxid in taxid_count_dict:\n",
    "    if taxid_count_dict[taxid] >= min_frac * total_read_count:\n",
    "        taxid_queries.append(taxid)"
   ]
  },
  {
   "cell_type": "code",
   "execution_count": null,
   "id": "1046b367-6aaa-4ee1-928d-54345c03c0b3",
   "metadata": {},
   "outputs": [],
   "source": [
    "min_frac * total_read_count"
   ]
  },
  {
   "cell_type": "code",
   "execution_count": null,
   "id": "558de199-2b6d-430a-906f-6b2d7c7067f7",
   "metadata": {},
   "outputs": [],
   "source": [
    "len(taxid_queries)"
   ]
  },
  {
   "cell_type": "markdown",
   "id": "4a8c51de-5916-4e66-b620-4b0697aee0a3",
   "metadata": {},
   "source": [
    "## Fetch Reference Genomes"
   ]
  },
  {
   "cell_type": "code",
   "execution_count": null,
   "id": "e24b0e98-1811-4a70-8eeb-58c1c4c3ddba",
   "metadata": {},
   "outputs": [],
   "source": [
    "output_directory = \"/home/Users/yl181/seqscreen_nano/ZymoBIOMICS.STD.Even.ont.minimap2\""
   ]
  },
  {
   "cell_type": "code",
   "execution_count": null,
   "id": "28afcd92-5c64-4d1b-bf0d-056f39490a15",
   "metadata": {},
   "outputs": [],
   "source": [
    "working_dir = os.path.join(output_directory, 'ncbi_downloads') "
   ]
  },
  {
   "cell_type": "code",
   "execution_count": null,
   "id": "01b5b526-d8ef-4d12-b6e3-688a34c355d4",
   "metadata": {},
   "outputs": [],
   "source": [
    "if not os.path.exists(working_dir):\n",
    "    os.mkdir(working_dir)"
   ]
  },
  {
   "cell_type": "code",
   "execution_count": null,
   "id": "bf184c1a-9a55-4332-91fa-3cd8e5932218",
   "metadata": {},
   "outputs": [],
   "source": [
    "download_result = []\n",
    "\n",
    "for taxid in taxid_queries:\n",
    "    download_result.append(download_reference_genome(taxid, working_dir))"
   ]
  },
  {
   "cell_type": "code",
   "execution_count": null,
   "id": "9916e284-fa62-4eb6-8b29-324df9b3508e",
   "metadata": {},
   "outputs": [],
   "source": [
    "unpack(working_dir, output_directory)"
   ]
  },
  {
   "cell_type": "code",
   "execution_count": null,
   "id": "431f565f-4736-4345-8735-f441cc3f0c33",
   "metadata": {},
   "outputs": [],
   "source": [
    "reference_metadata = pd.DataFrame(download_result, columns=['Taxonomy ID', 'Assembly Accession ID', 'Source Database', 'Is Representative', 'Assembly Level', 'Organism of Assembly', 'Downloaded'])"
   ]
  },
  {
   "cell_type": "code",
   "execution_count": null,
   "id": "d84bca6b-d7fb-4000-bee0-efea6547aa48",
   "metadata": {},
   "outputs": [],
   "source": [
    "taxonomy_name = []\n",
    "\n",
    "for taxid in reference_metadata['Taxonomy ID']:\n",
    "    taxonomy_name.append(ncbi_taxa_db.get_taxid_translator([taxid])[taxid])\n",
    "    \n",
    "reference_metadata['Species'] = taxonomy_name"
   ]
  },
  {
   "cell_type": "code",
   "execution_count": null,
   "id": "d263418c-2020-4e24-b858-61345bc90087",
   "metadata": {},
   "outputs": [],
   "source": [
    "reference_metadata = reference_metadata[['Taxonomy ID', 'Species', 'Assembly Accession ID', 'Source Database', 'Is Representative', 'Assembly Level', 'Organism of Assembly', 'Downloaded']]"
   ]
  },
  {
   "cell_type": "code",
   "execution_count": null,
   "id": "62a0bba5-d5d0-40c4-955f-626a9cc4cc9e",
   "metadata": {},
   "outputs": [],
   "source": [
    "reference_metadata.to_csv(os.path.join(output_directory, 'reference_metadata.csv'), index=False)\n",
    "reference_metadata"
   ]
  },
  {
   "cell_type": "code",
   "execution_count": null,
   "id": "5ca51190-bcd9-43a2-aa66-313f7a0f9368",
   "metadata": {},
   "outputs": [],
   "source": [
    "cat_reference_genome(reference_metadata, output_directory, reference_genome_path=os.path.join(output_directory, 'reference_genomes'))"
   ]
  },
  {
   "cell_type": "code",
   "execution_count": null,
   "id": "92ea0c2b-9db0-4cd3-bb1e-a9b84a034360",
   "metadata": {},
   "outputs": [],
   "source": [
    "# reference_genome_path = os.path.join(output_directory, 'reference_genomes')"
   ]
  },
  {
   "cell_type": "code",
   "execution_count": null,
   "id": "5b3367de-2e5e-4a72-81ee-7ff6fd666f68",
   "metadata": {},
   "outputs": [],
   "source": [
    "# input_fastq = '/home/Users/yl181/seqscreen_nano/ZymoBIOMICS.STD.Even.ont.raw_sequences/ERR3152364.downsampled.fastq'"
   ]
  },
  {
   "cell_type": "code",
   "execution_count": null,
   "id": "b15290e5-ba4e-40f7-b126-49cc5f9963e9",
   "metadata": {},
   "outputs": [],
   "source": [
    "# downloaded_assemblies = reference_metadata[reference_metadata['Downloaded']]\n",
    "\n",
    "# num_cores = 20\n",
    "\n",
    "# for assembly_id in downloaded_assemblies['Assembly Accession ID']:\n",
    "#     reference_fasta = os.path.join(reference_genome_path, f'{assembly_id}.fasta')\n",
    "#     run_minimap2(input_fastq, reference_fasta, assembly_id, output_directory, threads=num_cores)\n",
    "#     sort_samfile(assembly_id, output_directory, num_cores)\n",
    "#     calculate_depth(assembly_id, output_directory)"
   ]
  },
  {
   "cell_type": "code",
   "execution_count": null,
   "id": "397f9483-7ab3-46b2-8f50-ebaa38ab52c3",
   "metadata": {},
   "outputs": [],
   "source": []
  }
 ],
 "metadata": {
  "kernelspec": {
   "display_name": "Python 3 (ipykernel)",
   "language": "python",
   "name": "python3"
  },
  "language_info": {
   "codemirror_mode": {
    "name": "ipython",
    "version": 3
   },
   "file_extension": ".py",
   "mimetype": "text/x-python",
   "name": "python",
   "nbconvert_exporter": "python",
   "pygments_lexer": "ipython3",
   "version": "3.9.13"
  }
 },
 "nbformat": 4,
 "nbformat_minor": 5
}
