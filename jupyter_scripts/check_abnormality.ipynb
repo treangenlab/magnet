{
 "cells": [
  {
   "cell_type": "code",
   "execution_count": null,
   "id": "905a47d1-9d6d-411d-a02f-0125bb5bfd02",
   "metadata": {},
   "outputs": [],
   "source": [
    "import os\n",
    "import subprocess\n",
    "import sys\n",
    "\n",
    "from collections import defaultdict\n",
    "from Bio import Entrez\n",
    "import time\n",
    "\n",
    "import pandas as pd\n",
    "import json\n",
    "from ete3 import NCBITaxa"
   ]
  },
  {
   "cell_type": "code",
   "execution_count": null,
   "id": "a388ea0b-74b5-4cfc-93b1-3a1864ec0e94",
   "metadata": {},
   "outputs": [],
   "source": [
    "sys.path.insert(0, '../utils')\n",
    "from reference_finder import download_reference_genome, unpack, cat_reference_genome\n",
    "from alignment import run_minimap2, sort_samfile, calculate_depth"
   ]
  },
  {
   "cell_type": "code",
   "execution_count": null,
   "id": "39d38a76-ddb8-442a-abb5-6f731954406c",
   "metadata": {},
   "outputs": [],
   "source": [
    "import warnings\n",
    "warnings.filterwarnings(\"ignore\")"
   ]
  },
  {
   "cell_type": "code",
   "execution_count": null,
   "id": "86e35060-d643-4bac-98e7-375f432155e0",
   "metadata": {},
   "outputs": [],
   "source": [
    "def get_species_taxid(taxid, ncbi_taxa_db, valid_kingdom={2, 4751, 2157, 10239}):\n",
    "    lineage = ncbi_taxa_db.get_lineage(taxid)\n",
    "    if bool(set(lineage) & valid_kingdom):\n",
    "        taxid2rank_dict = ncbi_taxa_db.get_rank(lineage)\n",
    "        for lineage_taxid in taxid2rank_dict:\n",
    "            if taxid2rank_dict[lineage_taxid] == 'species':\n",
    "                return lineage_taxid\n",
    "    return None"
   ]
  },
  {
   "cell_type": "code",
   "execution_count": null,
   "id": "7cb4a196-f860-4072-af43-1f11e6dadd10",
   "metadata": {},
   "outputs": [],
   "source": [
    "ncbi_taxa_db = NCBITaxa()"
   ]
  },
  {
   "cell_type": "code",
   "execution_count": null,
   "id": "9085267e-6dc0-4aeb-a4df-3f584ddb0c60",
   "metadata": {},
   "outputs": [],
   "source": [
    "valid_kingdom = [2, 4751, 2157, 10239] # bacteria, archaea, viruses, and fungi"
   ]
  },
  {
   "cell_type": "code",
   "execution_count": null,
   "id": "e149ac7c-7211-41b0-96eb-0f40b71ce489",
   "metadata": {},
   "outputs": [],
   "source": [
    "seqscreen_output = \"/home/Users/yl181/seqscreen_nano/output_datasets/ZymoBIOMICS.STD.Even.ont.seqscreen\""
   ]
  },
  {
   "cell_type": "code",
   "execution_count": null,
   "id": "92f2eeac-33bd-42e8-96ac-a9f0cc88ad09",
   "metadata": {},
   "outputs": [],
   "source": [
    "classification_result_df = pd.read_csv(os.path.join(seqscreen_output, 'taxonomic_identification', 'taxonomic_assignment', 'taxonomic_results.txt'), sep='\\t')"
   ]
  },
  {
   "cell_type": "code",
   "execution_count": null,
   "id": "818e2da2-be4d-408d-94dd-c566b14f3f29",
   "metadata": {},
   "outputs": [],
   "source": [
    "total_read_count, _ = classification_result_df.shape"
   ]
  },
  {
   "cell_type": "code",
   "execution_count": null,
   "id": "677dac3b-6249-49c3-b7a3-3653a66a72c1",
   "metadata": {},
   "outputs": [],
   "source": [
    "taxid_count_dict = defaultdict(int)\n",
    "taxid_species_lookup = dict()\n",
    "error_count = 0\n",
    "for taxid in classification_result_df['taxid']:\n",
    "    \n",
    "    try:\n",
    "        taxid = int(taxid)\n",
    "        try:\n",
    "            species_taxid = taxid_species_lookup[taxid]\n",
    "        except KeyError:\n",
    "            species_taxid = get_species_taxid(taxid, ncbi_taxa_db)\n",
    "            taxid_species_lookup[taxid] = species_taxid\n",
    "            \n",
    "        if species_taxid is not None:\n",
    "            taxid_count_dict[species_taxid] += 1\n",
    "    except ValueError:\n",
    "        error_count += 1"
   ]
  },
  {
   "cell_type": "code",
   "execution_count": null,
   "id": "f4b1bfdf-7da7-4431-b62d-4b2e92d7cf0d",
   "metadata": {},
   "outputs": [],
   "source": [
    "taxid_count_dict[176275]"
   ]
  },
  {
   "cell_type": "code",
   "execution_count": null,
   "id": "188e08f7-a116-470f-8b5b-2ddf8b431b26",
   "metadata": {},
   "outputs": [],
   "source": [
    "for key in taxid_species_lookup:\n",
    "    if taxid_species_lookup[key] == 176275:\n",
    "        print(key)"
   ]
  },
  {
   "cell_type": "code",
   "execution_count": null,
   "id": "7bd6a54b-8d23-42c8-915b-f3849e3b82dd",
   "metadata": {},
   "outputs": [],
   "source": [
    "classification_result_df[classification_result_df['taxid']==1245745]['confidence'].describe()"
   ]
  },
  {
   "cell_type": "code",
   "execution_count": null,
   "id": "7e00eca5-14fc-4269-b6f1-defb338c4384",
   "metadata": {},
   "outputs": [],
   "source": []
  }
 ],
 "metadata": {
  "kernelspec": {
   "display_name": "Python 3 (ipykernel)",
   "language": "python",
   "name": "python3"
  },
  "language_info": {
   "codemirror_mode": {
    "name": "ipython",
    "version": 3
   },
   "file_extension": ".py",
   "mimetype": "text/x-python",
   "name": "python",
   "nbconvert_exporter": "python",
   "pygments_lexer": "ipython3",
   "version": "3.9.13"
  }
 },
 "nbformat": 4,
 "nbformat_minor": 5
}
