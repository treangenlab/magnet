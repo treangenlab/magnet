{
 "cells": [
  {
   "cell_type": "code",
   "execution_count": null,
   "id": "412fd6e6-dc68-455e-a663-dd7ea9a3a742",
   "metadata": {},
   "outputs": [],
   "source": [
    "import os\n",
    "import subprocess\n",
    "from collections import defaultdict\n",
    "import pickle\n",
    "import pandas as pd\n",
    "from Bio import SeqIO"
   ]
  },
  {
   "cell_type": "code",
   "execution_count": null,
   "id": "d6fa8a67-5cfa-40d9-a26f-2f59431b3780",
   "metadata": {
    "tags": []
   },
   "outputs": [],
   "source": [
    "def build_mappings(mapping_f=\"/scratch0/Advait/nucl_gb.accession2taxid\"):\n",
    "    mapping_dict = defaultdict(list)\n",
    "    count = 0\n",
    "    with open(mapping_f, \"r\") as mapping:\n",
    "        next(mapping)\n",
    "        for line in mapping:\n",
    "            _, sequence_id, taxid, _ = line.split(\"\\t\")\n",
    "\n",
    "            if sequence_id in sequence_ids:\n",
    "                mapping_dict[taxid].append(sequence_id)\n",
    "\n",
    "            if count % 10000000 == 0:\n",
    "                print(f\"{count}/304977224\")\n",
    "            count += 1\n",
    "            \n",
    "    with open('dbs/taxid2seqid.pickle', 'wb') as handle:\n",
    "        pickle.dump(mapping_dict, handle)"
   ]
  },
  {
   "cell_type": "code",
   "execution_count": null,
   "id": "a8aa9eac-4e9f-4348-ae92-ea6739d95462",
   "metadata": {},
   "outputs": [],
   "source": [
    "def build_record_dict(sequences_db_f):\n",
    "    sequence_ids = set()\n",
    "    record_dict = dict()\n",
    "    count = 0\n",
    "    for record in SeqIO.parse(sequences_db_f, \"fasta\"):\n",
    "        count += 1\n",
    "        if record.id not in sequence_ids:\n",
    "            sequence_ids.add(record.id)\n",
    "            record_dict[record.id] = record\n",
    "    print(f\"WARNING: {count-len(record_dict)} duplicated record found among {count} sequences.\")\n",
    "    \n",
    "    return record_dict"
   ]
  },
  {
   "cell_type": "code",
   "execution_count": null,
   "id": "76a1bed3-bed9-4078-b521-f25a31399f83",
   "metadata": {
    "tags": []
   },
   "outputs": [],
   "source": [
    "def local_taxid_fetch(taxid, output_directory, taxid2seqid_dict, record_dict):\n",
    "    reference_genome_path=os.path.join(output_directory, 'reference_genomes')\n",
    "    if not os.path.exists(reference_genome_path):\n",
    "        os.mkdir(reference_genome_path)\n",
    "    \n",
    "    records = []\n",
    "    for sequence_id in taxid2seqid_dict[str(taxid)]:\n",
    "        records.append(record_dict[sequence_id])\n",
    "        \n",
    "    if len(records) > 0:\n",
    "        with open(os.path.join(reference_genome_path, f\"taxid_{taxid}.fasta\"), \"w\") as output_handle:\n",
    "            SeqIO.write(records, output_handle, \"fasta\")\n",
    "        return taxid, f\"taxid_{taxid}\", \"N/A\", \"N/A\", \"N/A\", \"N/A\", True\n",
    "    else:\n",
    "        return taxid, \"N/A\", \"N/A\", \"N/A\", \"N/A\", \"N/A\", False"
   ]
  },
  {
   "cell_type": "code",
   "execution_count": null,
   "id": "0940960d-b952-4756-bd93-d05c055a7093",
   "metadata": {},
   "outputs": [],
   "source": [
    "def prepare_reference_genomes_offline(taxid_queries, output_directory, sequences_db_f, mapping_f, ncbi_taxa_db):\n",
    "    with open(mapping_f, 'rb') as handle:\n",
    "        taxid2seqid_dict = pickle.load(handle)\n",
    "        \n",
    "    record_dict = build_record_dict(sequences_db_f)\n",
    "    \n",
    "    download_result = []\n",
    "    for taxid in taxid_queries:\n",
    "        download_result.append(local_taxid_fetch(taxid, output_directory, taxid2seqid_dict, record_dict))\n",
    "        \n",
    "    reference_metadata = pd.DataFrame(download_result,\n",
    "                                      columns=['Taxonomy ID', \n",
    "                                               'Assembly Accession ID', \n",
    "                                               'Source Database', \n",
    "                                               'Is Representative', \n",
    "                                               'Assembly Level', \n",
    "                                               'Organism of Assembly', \n",
    "                                               'Downloaded'])\n",
    "    \n",
    "    taxonomy_name = []\n",
    "    for taxid in reference_metadata['Taxonomy ID']:\n",
    "        taxonomy_name.append(ncbi_taxa_db.get_taxid_translator([taxid])[taxid])\n",
    "    reference_metadata['Species'] = taxonomy_name\n",
    "    reference_metadata.to_csv(os.path.join(output_directory, 'reference_metadata.csv'), index=False)\n",
    "    \n",
    "    return reference_metadata"
   ]
  },
  {
   "cell_type": "markdown",
   "id": "a6c0d533-a631-4526-9b2c-fd4e6641b0bc",
   "metadata": {},
   "source": [
    "## Testing"
   ]
  },
  {
   "cell_type": "code",
   "execution_count": null,
   "id": "822f57e8-3e3c-4535-98bc-0927154d5c7a",
   "metadata": {},
   "outputs": [],
   "source": [
    "sequences_db_f = \"/home/dbs/SeqScreenDB_21.4/bowtie2/blacklist.seqs.nt.fna\"\n",
    "mapping_f = \"/home/Users/yl181/seqscreen_nano/reference_finder/dbs/taxid2seqid.pickle\""
   ]
  },
  {
   "cell_type": "code",
   "execution_count": null,
   "id": "09a4b319-dc4a-4318-b99f-3ae7053db3f3",
   "metadata": {},
   "outputs": [],
   "source": [
    "from ete3 import NCBITaxa\n",
    "ete3db = \"/home/Users/yl181/seqscreen_nano/ete3_ncbi_taxonomy_db/taxa.sqlite\"\n",
    "ncbi_taxa_db = NCBITaxa(dbfile=ete3db)"
   ]
  },
  {
   "cell_type": "code",
   "execution_count": null,
   "id": "a08e3655-17ac-46f4-9f96-26032ec062b7",
   "metadata": {},
   "outputs": [],
   "source": [
    "output_directory = \"test\""
   ]
  },
  {
   "cell_type": "code",
   "execution_count": null,
   "id": "9a7a98cd-ca5e-44e9-bf56-fea2224c5ca6",
   "metadata": {},
   "outputs": [],
   "source": [
    "taxid_queries = [1280,\n",
    " 1613,\n",
    " 1351,\n",
    " 1423,\n",
    " 287,\n",
    " 5207,\n",
    " 1639,\n",
    " 1642,\n",
    " 562,\n",
    " 1638,\n",
    " 28901,\n",
    " 1392,\n",
    " 623,\n",
    " 573,\n",
    " 4932,\n",
    " 96241,\n",
    " 1590,\n",
    " 1352,\n",
    " 294,\n",
    " 1643,\n",
    " 176275]"
   ]
  },
  {
   "cell_type": "code",
   "execution_count": null,
   "id": "d36fff97-34ec-4b82-8778-af3293f4f14f",
   "metadata": {},
   "outputs": [],
   "source": [
    "prepare_reference_genomes_offline(taxid_queries, output_directory, sequences_db_f, mapping_f, ncbi_taxa_db)"
   ]
  },
  {
   "cell_type": "code",
   "execution_count": null,
   "id": "5e4e5162-80d5-45c2-b8c7-17b35ea94534",
   "metadata": {},
   "outputs": [],
   "source": []
  }
 ],
 "metadata": {
  "kernelspec": {
   "display_name": "Python 3 (ipykernel)",
   "language": "python",
   "name": "python3"
  },
  "language_info": {
   "codemirror_mode": {
    "name": "ipython",
    "version": 3
   },
   "file_extension": ".py",
   "mimetype": "text/x-python",
   "name": "python",
   "nbconvert_exporter": "python",
   "pygments_lexer": "ipython3",
   "version": "3.9.13"
  }
 },
 "nbformat": 4,
 "nbformat_minor": 5
}
