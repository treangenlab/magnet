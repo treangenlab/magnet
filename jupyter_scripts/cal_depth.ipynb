{
 "cells": [
  {
   "cell_type": "code",
   "execution_count": null,
   "id": "3b2b0324-6e05-46ef-9833-25348c1c3f06",
   "metadata": {},
   "outputs": [],
   "source": [
    "import os\n",
    "import subprocess\n",
    "from collections import defaultdict\n",
    "import math\n",
    "import pandas as pd\n",
    "from Bio import SeqIO"
   ]
  },
  {
   "cell_type": "code",
   "execution_count": null,
   "id": "c07e4e22-11d7-4c8b-bf63-7c817fae1347",
   "metadata": {},
   "outputs": [],
   "source": [
    "def parse_reference_fasta(assembly_id):\n",
    "    reference_fasta = os.path.join(output_directory, 'reference_genomes', f'{assembly_id}.fasta')\n",
    "    \n",
    "    with open(reference_fasta, \"r\") as handle:\n",
    "        genome_length = 0\n",
    "        genome_ids = []\n",
    "        \n",
    "        for record in SeqIO.parse(handle, \"fasta\"):      \n",
    "            genome_length += len(record.seq)\n",
    "            genome_ids.append(record.id)\n",
    "    \n",
    "    return genome_length, genome_ids"
   ]
  },
  {
   "cell_type": "code",
   "execution_count": null,
   "id": "28695344-5b50-4fe0-845e-e3d2637c2f85",
   "metadata": {},
   "outputs": [],
   "source": [
    "def get_mapping_stats(assembly_id, genome_id=None):\n",
    "    bam_file = os.path.join(output_directory, 'bam_files', f\"{assembly_id}.sorted.bam\")\n",
    "    \n",
    "    if genome_id is not None:\n",
    "        stats_res = subprocess.Popen(['samtools', 'stats', bam_file, genome_id],\n",
    "                               stdout=subprocess.PIPE)\n",
    "    else:\n",
    "        stats_res = subprocess.Popen(['samtools', 'stats', bam_file],\n",
    "                               stdout=subprocess.PIPE)\n",
    "\n",
    "    grep_res = subprocess.Popen(['grep', '^SN'],\n",
    "                              stdin=stats_res.stdout,\n",
    "                              stdout=subprocess.PIPE)\n",
    "\n",
    "    mapping_res = subprocess.run(['cut', '-f', '2-'],\n",
    "                                 check=True,\n",
    "                                 universal_newlines=True,\n",
    "                                 stdin = grep_res.stdout,\n",
    "                                 stdout=subprocess.PIPE)\n",
    "\n",
    "    mapping_stats = dict()\n",
    "    for line in mapping_res.stdout.strip().split('\\n'):\n",
    "        attribute, value = line.split(':\\t')\n",
    "        mapping_stats[attribute] = float(value.split('\\t')[0])\n",
    "        \n",
    "    return mapping_stats"
   ]
  },
  {
   "cell_type": "code",
   "execution_count": null,
   "id": "7ce13e85-d205-4023-8abd-9f18a40e3d25",
   "metadata": {},
   "outputs": [],
   "source": [
    "def get_expected_coverage(genome_length, reads_mapped, genome_totol_count):\n",
    "    mean_mapping_length = genome_totol_count/reads_mapped\n",
    "    \n",
    "    N = genome_length/mean_mapping_length\n",
    "    x = reads_mapped\n",
    "    \n",
    "    expected_M = N*(1-((1-1/N)**x))\n",
    "    variance = N*((1-1/N)**x) + (N**2)*(1-1/N)*((1-2/N)**x)-(N**2)*((1-1/N)**(2*x))\n",
    "    std = math.sqrt(variance)\n",
    "    expected_coverage = expected_M/N\n",
    "    \n",
    "    return expected_coverage, std"
   ]
  },
  {
   "cell_type": "code",
   "execution_count": null,
   "id": "48f0557d-f5dc-4788-9423-9f80cfa59b50",
   "metadata": {},
   "outputs": [],
   "source": [
    "def calculate_depth(assembly_id, min_depth=1):\n",
    "    depth_file = os.path.join(output_directory, 'depth_files', f\"{assembly_id}.depth\")\n",
    "    \n",
    "    genome_length, genome_ids = parse_reference_fasta(assembly_id)\n",
    "    mapping_stats = get_mapping_stats(assembly_id)\n",
    "    reads_mapped = mapping_stats['reads mapped']\n",
    "\n",
    "    genome_pos_count = 0\n",
    "    genome_totol_count = 0\n",
    "    with open(depth_file, \"r\") as depth:\n",
    "        for line in depth.readlines():\n",
    "            \n",
    "            genome_id = line.split(\"\\t\")[0]\n",
    "            pos = int(line.split(\"\\t\")[1])\n",
    "            depth = int(line.strip().split(\"\\t\")[2])\n",
    "\n",
    "            if depth >= min_depth and genome_id in genome_ids:\n",
    "                genome_pos_count += 1\n",
    "                genome_totol_count += depth\n",
    "\n",
    "    \n",
    "    if genome_totol_count == 0:\n",
    "        breadth_coverage = None\n",
    "        depth_coverage = None\n",
    "        expected_breadth_coverage = None\n",
    "    else:\n",
    "        breadth_coverage = genome_pos_count/genome_length\n",
    "        depth_coverage = genome_totol_count/genome_pos_count\n",
    "        expected_breadth_coverage, std = get_expected_coverage(genome_length, reads_mapped, genome_totol_count)\n",
    "    \n",
    "    return breadth_coverage, depth_coverage, expected_breadth_coverage"
   ]
  },
  {
   "cell_type": "code",
   "execution_count": null,
   "id": "ed67e0eb-6468-4d41-ab98-7449ec9ca3a2",
   "metadata": {},
   "outputs": [],
   "source": [
    "def calculate_depth_merged(assembly_ids, min_depth=1):\n",
    "    depth_file = os.path.join(output_directory, 'depth_files', f\"merged.depth\")\n",
    "    \n",
    "    genome_id_pos_count = defaultdict(int)\n",
    "    genome_id_totol_count = defaultdict(int)\n",
    "    \n",
    "    with open(depth_file, \"r\") as depth:\n",
    "        for line in depth.readlines():            \n",
    "            genome_id = line.split(\"\\t\")[0]\n",
    "            pos = int(line.split(\"\\t\")[1])\n",
    "            depth = int(line.strip().split(\"\\t\")[2])\n",
    "\n",
    "            if depth >= min_depth:\n",
    "                genome_id_pos_count[genome_id] += 1\n",
    "                genome_id_totol_count[genome_id] += depth\n",
    "    \n",
    "    breadth_coverage_dict = defaultdict(float)\n",
    "    depth_coverage_dict = defaultdict(float)\n",
    "    reads_mapped_dict = defaultdict(int)\n",
    "    expected_breadth_coverage_dict = defaultdict(float)\n",
    "    \n",
    "    for assembly_id in assembly_ids:\n",
    "        genome_length, genome_ids = parse_reference_fasta(assembly_id)\n",
    "        \n",
    "        genome_pos_count = 0\n",
    "        genome_totol_count = 0\n",
    "        for genome_id in genome_ids:\n",
    "            genome_pos_count += genome_id_pos_count[genome_id]\n",
    "            genome_totol_count += genome_id_totol_count[genome_id]\n",
    "            if genome_id_pos_count[genome_id] > 0:\n",
    "                mapping_stats = get_mapping_stats('merged', genome_id)\n",
    "                reads_mapped_dict[assembly_id] += mapping_stats['reads mapped']\n",
    "            \n",
    "        if genome_totol_count > 0:\n",
    "            breadth_coverage_dict[assembly_id] = genome_pos_count/genome_length\n",
    "            depth_coverage_dict[assembly_id] = genome_totol_count/genome_pos_count\n",
    "            expected_breadth_coverage, std = get_expected_coverage(genome_length, reads_mapped_dict[assembly_id], genome_totol_count)\n",
    "            expected_breadth_coverage_dict[assembly_id] = expected_breadth_coverage\n",
    "            \n",
    "    return breadth_coverage_dict, depth_coverage_dict, expected_breadth_coverage_dict"
   ]
  },
  {
   "cell_type": "code",
   "execution_count": null,
   "id": "3197c67f-24e8-45c4-a481-d897f7c3d338",
   "metadata": {},
   "outputs": [],
   "source": [
    "def merge_reference_fasta(assembly_ids):\n",
    "    merged_fasta = os.path.join(output_directory, 'reference_genomes', f'merged.fasta')\n",
    "    \n",
    "    seq_records = []\n",
    "    for assembly_id in assembly_ids:\n",
    "        reference_fasta = os.path.join(output_directory, 'reference_genomes', f'{assembly_id}.fasta')\n",
    "\n",
    "        with open(reference_fasta, \"r\") as handle:\n",
    "            for record in SeqIO.parse(handle, \"fasta\"):   \n",
    "                seq_records.append(record)\n",
    "                    \n",
    "    with open(merged_fasta, \"w\") as output_handle:\n",
    "        SeqIO.write(seq_records, output_handle, \"fasta\")"
   ]
  },
  {
   "cell_type": "code",
   "execution_count": null,
   "id": "5233782b-19a8-496d-96d3-c1ec2440f2bd",
   "metadata": {},
   "outputs": [],
   "source": [
    "def cal_ani(assembly_id):\n",
    "    reference_fasta = os.path.join(output_directory, 'reference_genomes', f'{assembly_id}.fasta')\n",
    "\n",
    "    with open(reference_fasta, \"r\") as handle:\n",
    "        total_count = 0\n",
    "        matched_count = 0\n",
    "\n",
    "        for record in SeqIO.parse(handle, \"fasta\"):\n",
    "            if record.id in consensus_record_dict:\n",
    "                for idx, base in enumerate(record.seq):\n",
    "                    if consensus_record_dict[record.id][idx] != 'N':\n",
    "                        total_count += 1\n",
    "                        if consensus_record_dict[record.id][idx] == base:\n",
    "                            matched_count += 1\n",
    "            else:\n",
    "                print(assembly_id, record.id, record.description)\n",
    "                    \n",
    "    return matched_count/total_count"
   ]
  },
  {
   "cell_type": "code",
   "execution_count": null,
   "id": "92daff8f-3cf6-4beb-b488-a1d993758b5b",
   "metadata": {},
   "outputs": [],
   "source": [
    "output_directory = \"/home/Users/yl181/seqscreen_nano/ZymoBIOMICS.STD.Even.ont.minimap2.breadth50\""
   ]
  },
  {
   "cell_type": "code",
   "execution_count": null,
   "id": "cd9707e7-b2b2-4662-9c94-69ab53215c67",
   "metadata": {},
   "outputs": [],
   "source": [
    "reference_metadata = pd.read_csv(os.path.join(output_directory, 'reference_metadata.csv'))\n",
    "# reference_genome_path = os.path.join(output_directory, 'reference_genomes')\n",
    "# depth_file_path = os.path.join(output_directory, 'depth_files')\n",
    "# bam_file_path = os.path.join(output_directory, 'bam_files')"
   ]
  },
  {
   "cell_type": "code",
   "execution_count": null,
   "id": "522b42af-864d-41dd-8554-39bc90f7362a",
   "metadata": {},
   "outputs": [],
   "source": [
    "min_depth = 1"
   ]
  },
  {
   "cell_type": "code",
   "execution_count": null,
   "id": "e80c840a-c137-44ce-9cd7-d6d855bbe27d",
   "metadata": {},
   "outputs": [],
   "source": [
    "downloaded_assemblies = reference_metadata[reference_metadata['Downloaded']]\n",
    "\n",
    "breadth_coverage_list = []\n",
    "depth_coverage_list = []\n",
    "expected_breadth_coverage_list = []\n",
    "coverage_score = []\n",
    "for assembly_id in downloaded_assemblies['Assembly Accession ID']:\n",
    "    breadth_coverage, depth_coverage, expected_breadth_coverage = calculate_depth(assembly_id, min_depth=min_depth)\n",
    "    breadth_coverage_list.append(breadth_coverage)\n",
    "    depth_coverage_list.append(depth_coverage)\n",
    "    expected_breadth_coverage_list.append(expected_breadth_coverage)\n",
    "    coverage_score.append(breadth_coverage/expected_breadth_coverage)"
   ]
  },
  {
   "cell_type": "code",
   "execution_count": null,
   "id": "64f4c7d6-b483-4601-9677-5f54683367be",
   "metadata": {},
   "outputs": [],
   "source": [
    "downloaded_assemblies['Breadth Coverage'] = breadth_coverage_list\n",
    "downloaded_assemblies['Expected Coverage'] = expected_breadth_coverage_list\n",
    "downloaded_assemblies['Coverage Score'] = coverage_score\n",
    "downloaded_assemblies['Depth Coverage'] = depth_coverage_list"
   ]
  },
  {
   "cell_type": "code",
   "execution_count": null,
   "id": "5f45e3a4-b818-42b0-9787-f3c43ac059a4",
   "metadata": {},
   "outputs": [],
   "source": [
    "downloaded_assemblies.to_csv(os.path.join(output_directory, 'coverage.csv'), index=False)"
   ]
  },
  {
   "cell_type": "code",
   "execution_count": null,
   "id": "05e571c8-90cd-41b6-90b2-b35a9f471a91",
   "metadata": {},
   "outputs": [],
   "source": [
    "zymo_theoretical_abundance = dict()\n",
    "with open('/home/Users/yl181/seqscreen_nano/ZymoBIOMICS.STD.refseq.v2/theoretical_composition.txt', 'r') as ground_truth_f:\n",
    "    for line in ground_truth_f.readlines():\n",
    "        tax_name = line.strip().split(\" - \")[0]\n",
    "        abundance = float(line.strip().split(\" - \")[1])/100\n",
    "        zymo_theoretical_abundance[tax_name] = abundance"
   ]
  },
  {
   "cell_type": "code",
   "execution_count": null,
   "id": "90229db1-5e09-48d0-a30c-4b681da47636",
   "metadata": {},
   "outputs": [],
   "source": [
    "zymo_theoretical_abundance"
   ]
  },
  {
   "cell_type": "code",
   "execution_count": null,
   "id": "751ff257-6a25-445a-a034-fc71d10d884e",
   "metadata": {},
   "outputs": [],
   "source": [
    "theoretical_abundance = []\n",
    "labels = []\n",
    "for taxname in downloaded_assemblies['Species']:\n",
    "    try:\n",
    "        theoretical_abundance.append(zymo_theoretical_abundance[taxname])\n",
    "        labels.append(\"TP\")\n",
    "    except KeyError:\n",
    "        theoretical_abundance.append(0)\n",
    "        labels.append(\"FP\")"
   ]
  },
  {
   "cell_type": "code",
   "execution_count": null,
   "id": "6c80895a-0f8d-4f69-ac7b-a11ee03690ad",
   "metadata": {},
   "outputs": [],
   "source": [
    "downloaded_assemblies['Theoretical Abundance'] = theoretical_abundance\n",
    "downloaded_assemblies['Labels'] = labels"
   ]
  },
  {
   "cell_type": "code",
   "execution_count": null,
   "id": "e311cf1d-b839-4cf7-a1e0-2b53d83505df",
   "metadata": {},
   "outputs": [],
   "source": [
    "result_df = downloaded_assemblies[['Taxonomy ID', 'Species', 'Breadth Coverage', 'Depth Coverage', 'Theoretical Abundance', 'Labels']]"
   ]
  },
  {
   "cell_type": "code",
   "execution_count": null,
   "id": "5564542f-e1bb-4593-86d4-d31f70da4be1",
   "metadata": {},
   "outputs": [],
   "source": [
    "for taxname in zymo_theoretical_abundance:\n",
    "    if taxname not in set(downloaded_assemblies['Species']):\n",
    "        print(taxname)\n",
    "    "
   ]
  },
  {
   "cell_type": "code",
   "execution_count": null,
   "id": "4fbb57ce-4c56-48f8-b9ba-4ca8dd7e7edb",
   "metadata": {},
   "outputs": [],
   "source": [
    "downloaded_assemblies.sort_values(['Coverage Score'], ascending=False).drop(['Source Database', 'Is Representative', 'Downloaded'], axis=1)"
   ]
  },
  {
   "cell_type": "code",
   "execution_count": null,
   "id": "695f198d-370b-4588-8113-10f38a06aac8",
   "metadata": {},
   "outputs": [],
   "source": [
    "downloaded_assemblies.sort_values(['Coverage Score'], ascending=False).to_csv(os.path.join(output_directory, 'coverage.csv'), index=False)"
   ]
  },
  {
   "cell_type": "markdown",
   "id": "4a6e5927-2493-459a-8d1a-c65fdc8f97ae",
   "metadata": {},
   "source": [
    "## Filtering by Coverage Score"
   ]
  },
  {
   "cell_type": "code",
   "execution_count": null,
   "id": "791fc260-bce6-4982-b322-c3f86e651efe",
   "metadata": {},
   "outputs": [],
   "source": [
    "filtered_assemblies = list(downloaded_assemblies[downloaded_assemblies['Coverage Score'] >= 0.7]['Assembly Accession ID'])\n",
    "output_directory = \"/home/Users/yl181/seqscreen_nano/ZymoBIOMICS.STD.Even.ont.minimap2.score70\""
   ]
  },
  {
   "cell_type": "markdown",
   "id": "0ab12884-02a5-472f-b1bb-0bc4bea93c7f",
   "metadata": {},
   "source": [
    "## Filtering by Breadth Coverage"
   ]
  },
  {
   "cell_type": "code",
   "execution_count": null,
   "id": "8ca5792a-7c5f-414b-8df2-87c6a79cf682",
   "metadata": {},
   "outputs": [],
   "source": [
    "# filtered_assemblies = list(downloaded_assemblies[downloaded_assemblies['Breadth Coverage'] >= 0.5]['Assembly Accession ID'])\n",
    "# output_directory = \"/home/Users/yl181/seqscreen_nano/ZymoBIOMICS.STD.Even.ont.minimap2.breadth50\""
   ]
  },
  {
   "cell_type": "markdown",
   "id": "e9d2f82e-21cf-4404-aa01-7c2193b08bfc",
   "metadata": {},
   "source": [
    "## Re-alignment"
   ]
  },
  {
   "cell_type": "code",
   "execution_count": null,
   "id": "4e06cfb2-d80b-40bb-a4bc-44a209b6ef06",
   "metadata": {},
   "outputs": [],
   "source": [
    "merge_reference_fasta(filtered_assemblies)"
   ]
  },
  {
   "cell_type": "markdown",
   "id": "a09cfe8b-4140-4580-b300-ca6ad6749a7f",
   "metadata": {},
   "source": [
    "### Run the following command:"
   ]
  },
  {
   "cell_type": "code",
   "execution_count": null,
   "id": "3be69265-ae09-4d77-a455-63c106855544",
   "metadata": {},
   "outputs": [],
   "source": [
    "os.system(f'python utils/re-alignment.py -i ../ZymoBIOMICS.STD.Even.ont.raw_sequences/ERR3152364.downsampled.fastq -o {output_directory} -t 40')"
   ]
  },
  {
   "cell_type": "code",
   "execution_count": null,
   "id": "9840b70b-c5d6-42ea-acdd-4694d4099db0",
   "metadata": {},
   "outputs": [],
   "source": [
    "breadth_coverage_dict, depth_coverage_dict, expected_breadth_coverage_dict = calculate_depth_merged(list(downloaded_assemblies['Assembly Accession ID']), min_depth=1)"
   ]
  },
  {
   "cell_type": "code",
   "execution_count": null,
   "id": "07eb09db-7796-4f73-8f79-0b6e7e225700",
   "metadata": {},
   "outputs": [],
   "source": [
    "breadth_coverage_list = []\n",
    "depth_coverage_list = []\n",
    "expected_breadth_coverage_list = []\n",
    "coverage_score = []\n",
    "for assembly_id in downloaded_assemblies['Assembly Accession ID']:\n",
    "    breadth_coverage_list.append(breadth_coverage_dict[assembly_id])\n",
    "    depth_coverage_list.append(depth_coverage_dict[assembly_id])\n",
    "    expected_breadth_coverage_list.append(expected_breadth_coverage_dict[assembly_id])\n",
    "    \n",
    "    if expected_breadth_coverage_dict[assembly_id] != 0:\n",
    "        coverage_score.append(breadth_coverage_dict[assembly_id]/expected_breadth_coverage_dict[assembly_id])\n",
    "    else:\n",
    "        coverage_score.append(0)"
   ]
  },
  {
   "cell_type": "code",
   "execution_count": null,
   "id": "8663d12c-a555-4d7b-b9aa-420e89492387",
   "metadata": {},
   "outputs": [],
   "source": [
    "downloaded_assemblies['BC2'] = breadth_coverage_list\n",
    "downloaded_assemblies['EC2'] = expected_breadth_coverage_list\n",
    "downloaded_assemblies['CS2'] = coverage_score\n",
    "downloaded_assemblies['DC2'] = depth_coverage_list"
   ]
  },
  {
   "cell_type": "code",
   "execution_count": null,
   "id": "223aa7d1-e9dc-4401-98b4-105d823569eb",
   "metadata": {},
   "outputs": [],
   "source": [
    "downloaded_assemblies.sort_values(['CS2'], ascending=False).drop(['Source Database', 'Is Representative', 'Downloaded', 'Assembly Level', 'Organism of Assembly'], axis=1)"
   ]
  },
  {
   "cell_type": "code",
   "execution_count": null,
   "id": "d55b36c3-95bb-4513-97b1-793de6f41581",
   "metadata": {},
   "outputs": [],
   "source": [
    "downloaded_assemblies.sort_values(['Coverage Score'], ascending=False).to_csv(os.path.join(output_directory, 're-alignment.csv'), index=False)"
   ]
  },
  {
   "cell_type": "code",
   "execution_count": null,
   "id": "e0be4867-1fdf-4272-96a8-717662236fb8",
   "metadata": {},
   "outputs": [],
   "source": [
    "threads=20\n",
    "merged_bam = os.path.join(output_directory, 'bam_files', 'merged.sorted.bam')\n",
    "subprocess.run(['samtools', 'consensus', \n",
    "                '--show-ins', 'no', \n",
    "                '--show-del', 'yes', \n",
    "                '-a',\n",
    "                '--threads', str(threads),\n",
    "                merged_bam, \n",
    "                '-o', os.path.join(output_directory, 'merged_consensus.fasta')],\n",
    "              check=True)"
   ]
  },
  {
   "cell_type": "code",
   "execution_count": null,
   "id": "274847e3-8bd1-435f-8f96-0d67b848aaa4",
   "metadata": {},
   "outputs": [],
   "source": [
    "consensus_record_dict = SeqIO.to_dict(SeqIO.parse(os.path.join(output_directory, 'merged_consensus.fasta'), \"fasta\"))"
   ]
  },
  {
   "cell_type": "code",
   "execution_count": null,
   "id": "fa8ff250-b8bf-4600-a116-00aca1609b7d",
   "metadata": {},
   "outputs": [],
   "source": [
    "ani_list = []\n",
    "for idx, row in downloaded_assemblies.iterrows():\n",
    "    if row['CS2'] != 0:\n",
    "        assembly_id = row['Assembly Accession ID']\n",
    "        ani_list.append(cal_ani(assembly_id))\n",
    "    else:\n",
    "        ani_list.append(0)"
   ]
  },
  {
   "cell_type": "code",
   "execution_count": null,
   "id": "281d7c6a-bc37-4340-854c-a6900c9242ae",
   "metadata": {},
   "outputs": [],
   "source": [
    "downloaded_assemblies['Consensus ANI'] = ani_list"
   ]
  },
  {
   "cell_type": "code",
   "execution_count": null,
   "id": "c3890095-6136-4aca-895d-2d1224091789",
   "metadata": {},
   "outputs": [],
   "source": [
    "downloaded_assemblies.sort_values(['Coverage Score'], ascending=False).to_csv(os.path.join(output_directory, 're-alignment.csv'), index=False)"
   ]
  },
  {
   "cell_type": "code",
   "execution_count": null,
   "id": "65caaada-d8f1-41bb-9ab5-5df6281d5cdc",
   "metadata": {},
   "outputs": [],
   "source": [
    "downloaded_assemblies"
   ]
  },
  {
   "cell_type": "code",
   "execution_count": null,
   "id": "d3b08967-9f43-494b-b97a-9dcf3864cf9d",
   "metadata": {},
   "outputs": [],
   "source": []
  }
 ],
 "metadata": {
  "kernelspec": {
   "display_name": "Python 3 (ipykernel)",
   "language": "python",
   "name": "python3"
  },
  "language_info": {
   "codemirror_mode": {
    "name": "ipython",
    "version": 3
   },
   "file_extension": ".py",
   "mimetype": "text/x-python",
   "name": "python",
   "nbconvert_exporter": "python",
   "pygments_lexer": "ipython3",
   "version": "3.9.13"
  }
 },
 "nbformat": 4,
 "nbformat_minor": 5
}
