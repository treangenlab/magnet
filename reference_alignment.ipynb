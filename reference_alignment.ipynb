{
 "cells": [
  {
   "cell_type": "code",
   "execution_count": null,
   "id": "251cef2a-37b5-46e6-9fda-4546d1c14315",
   "metadata": {},
   "outputs": [],
   "source": [
    "import warnings\n",
    "warnings.filterwarnings(\"ignore\")\n",
    "\n",
    "import os\n",
    "import argparse\n",
    "import sys\n",
    "import subprocess\n",
    "import math\n",
    "import pickle\n",
    "from collections import defaultdict\n",
    "import json\n",
    "import pandas as pd\n",
    "import math\n",
    "from ete3 import NCBITaxa\n",
    "from Bio import SeqIO"
   ]
  },
  {
   "cell_type": "code",
   "execution_count": null,
   "id": "3911e5c3-e6b4-41f6-a06b-0fc2337e0e7b",
   "metadata": {},
   "outputs": [],
   "source": [
    "from utils.reference_finder import prepare_reference_genomes\n",
    "from utils.alignment import run_minimap2, sort_samfile, run_bwa, samtools_calculate_depth\n",
    "from utils.summary import alignment_1_summary, alignment_2_summary, merge_reference_fasta, call_present_absent\n",
    "from utils.ani import samtools_merged_consensus, ani_summary"
   ]
  },
  {
   "cell_type": "code",
   "execution_count": null,
   "id": "2b2917e3-e287-47cb-a01e-5df068b70a7f",
   "metadata": {},
   "outputs": [],
   "source": [
    "def get_species_taxid(taxid, ncbi_taxa_db, valid_kingdom):\n",
    "    lineage = ncbi_taxa_db.get_lineage(taxid)\n",
    "    if bool(set(lineage) & valid_kingdom):\n",
    "        taxid2rank_dict = ncbi_taxa_db.get_rank(lineage)\n",
    "        for lineage_taxid in taxid2rank_dict:\n",
    "            if taxid2rank_dict[lineage_taxid] == 'species':\n",
    "                return lineage_taxid\n",
    "    return None"
   ]
  },
  {
   "cell_type": "code",
   "execution_count": null,
   "id": "6f15d60c-3721-4449-a4ba-f523ce4a32b1",
   "metadata": {},
   "outputs": [],
   "source": [
    "def filter_kraken2_taxonomy(kraken2_report, min_frac, ncbi_taxa_db, valid_kingdom):\n",
    "    classification_result_df = pd.read_csv(kraken2_report, sep='\\t', names=['Abundance', 'Cumulative Count', 'Count', 'Rank', 'Taxid', 'Taxname']) \n",
    "    taxids = classification_result_df[(classification_result_df['Rank'] == 'S') & (classification_result_df['Abundance'] >= min_frac*100)]['Taxid'].tolist()\n",
    "    valid_taxids = []\n",
    "    for taxid in taxids:\n",
    "        species_taxid = get_species_taxid(taxid, ncbi_taxa_db, valid_kingdom)\n",
    "        if species_taxid is not None:\n",
    "            valid_taxids.append(species_taxid)\n",
    "    return valid_taxids"
   ]
  },
  {
   "cell_type": "code",
   "execution_count": null,
   "id": "b5a8b208-4aa2-481c-8e3c-927c6634ff8c",
   "metadata": {},
   "outputs": [],
   "source": [
    "ncbi_taxa_db = NCBITaxa()"
   ]
  },
  {
   "cell_type": "code",
   "execution_count": null,
   "id": "6747fe53-a872-4a7a-a56f-9a81745db890",
   "metadata": {},
   "outputs": [],
   "source": [
    "input_fastq_1 = '../test_data/Zymo_illumina/SRR11207265_1.downsampled.fastq'\n",
    "input_fastq_2 = '../test_data/Zymo_illumina/SRR11207265_2.downsampled.fastq'\n",
    "kraken2_report = \"../test_data/Zymo_illumina/SRR11207265.downsampled.report\"\n",
    "threads = 40\n",
    "min_mapq = 20\n",
    "min_coverage_score = 0.7\n",
    "min_frac = 0.0005"
   ]
  },
  {
   "cell_type": "code",
   "execution_count": null,
   "id": "1f4939e6-c628-4af1-99f8-e76945f76e50",
   "metadata": {},
   "outputs": [],
   "source": [
    "working_directory = '../test_output_downsampled'\n",
    "if not os.path.exists(working_directory):\n",
    "    os.mkdir(working_directory)"
   ]
  },
  {
   "cell_type": "code",
   "execution_count": null,
   "id": "9f8c9842-3089-4a3f-8230-de0ba518830a",
   "metadata": {},
   "outputs": [],
   "source": [
    "taxid_queries = filter_kraken2_taxonomy(kraken2_report,\n",
    "                                        min_frac=min_frac, \n",
    "                                        ncbi_taxa_db=ncbi_taxa_db, \n",
    "                                        valid_kingdom={2, 4751, 2157, 10239})"
   ]
  },
  {
   "cell_type": "code",
   "execution_count": null,
   "id": "f5bf1e11-2199-42ac-9550-d3af818b2d66",
   "metadata": {},
   "outputs": [],
   "source": [
    "reference_metadata = prepare_reference_genomes(taxid_queries, working_directory, ncbi_taxa_db)"
   ]
  },
  {
   "cell_type": "code",
   "execution_count": null,
   "id": "3b6276e5-36bd-4cfd-a37a-907f3c66c8fd",
   "metadata": {},
   "outputs": [],
   "source": [
    "downloaded_assemblies = reference_metadata[reference_metadata['Downloaded']]"
   ]
  },
  {
   "cell_type": "code",
   "execution_count": null,
   "id": "7aacc8f4-314a-41a0-8b1d-c16f3fd9e1de",
   "metadata": {},
   "outputs": [],
   "source": [
    "for assembly_id in downloaded_assemblies['Assembly Accession ID']:\n",
    "    reference_fasta = os.path.join(working_directory, 'reference_genomes', f'{assembly_id}.fasta')\n",
    "    run_bwa(input_fastq_1, input_fastq_2, reference_fasta, assembly_id, working_directory, threads=threads)\n",
    "    sort_samfile(assembly_id, working_directory, min_mapq, threads)\n",
    "    samtools_calculate_depth(assembly_id, working_directory)"
   ]
  },
  {
   "cell_type": "code",
   "execution_count": null,
   "id": "e4316f7e-c07a-4078-9511-3faf482968d0",
   "metadata": {},
   "outputs": [],
   "source": [
    "downloaded_assemblies = alignment_1_summary(downloaded_assemblies, working_directory)"
   ]
  },
  {
   "cell_type": "code",
   "execution_count": null,
   "id": "f6cf7b01-2f5c-4975-8725-3a9f5717a40e",
   "metadata": {},
   "outputs": [],
   "source": [
    "filtered_assemblies = list(downloaded_assemblies[downloaded_assemblies['Coverage Score'] >= min_coverage_score]['Assembly Accession ID'])"
   ]
  },
  {
   "cell_type": "code",
   "execution_count": null,
   "id": "5b7a62e5-2ffc-495e-85d4-852339ed1256",
   "metadata": {},
   "outputs": [],
   "source": [
    "reference_fasta = merge_reference_fasta(filtered_assemblies, working_directory)\n",
    "run_bwa(input_fastq_1, input_fastq_2, reference_fasta, 'merged', working_directory, threads=threads)\n",
    "sort_samfile('merged', working_directory, min_mapq, threads)\n",
    "samtools_calculate_depth('merged', working_directory)"
   ]
  },
  {
   "cell_type": "code",
   "execution_count": null,
   "id": "766ba8bc-2cc6-4d24-866b-9e6c2b30128e",
   "metadata": {},
   "outputs": [],
   "source": [
    "downloaded_assemblies = alignment_2_summary(downloaded_assemblies, working_directory)"
   ]
  },
  {
   "cell_type": "code",
   "execution_count": null,
   "id": "9736777b-5376-4ba9-b750-c8f628ad2ef3",
   "metadata": {},
   "outputs": [],
   "source": [
    "consensus_record_dict = samtools_merged_consensus(working_directory, threads)\n",
    "downloaded_assemblies = ani_summary(downloaded_assemblies, consensus_record_dict, working_directory)"
   ]
  },
  {
   "cell_type": "code",
   "execution_count": null,
   "id": "052662c7-a05d-49f7-a88e-e54eb58910e9",
   "metadata": {},
   "outputs": [],
   "source": [
    "downloaded_assemblies = call_present_absent(downloaded_assemblies)"
   ]
  },
  {
   "cell_type": "code",
   "execution_count": null,
   "id": "fb5825f7-1eaa-45b2-a984-fc47188e5fdc",
   "metadata": {},
   "outputs": [],
   "source": [
    "downloaded_assemblies.sort_values(['CS2'], ascending=False).to_csv(os.path.join(working_directory, 'reference_alignment.csv'), index=False)"
   ]
  },
  {
   "cell_type": "code",
   "execution_count": null,
   "id": "d9addeba-3d0b-415e-90e0-8349530e74aa",
   "metadata": {},
   "outputs": [],
   "source": [
    "downloaded_assemblies"
   ]
  },
  {
   "cell_type": "code",
   "execution_count": null,
   "id": "335180ef-eedf-41f7-848e-336ccfa0be2b",
   "metadata": {},
   "outputs": [],
   "source": []
  }
 ],
 "metadata": {
  "kernelspec": {
   "display_name": "Python 3 (ipykernel)",
   "language": "python",
   "name": "python3"
  },
  "language_info": {
   "codemirror_mode": {
    "name": "ipython",
    "version": 3
   },
   "file_extension": ".py",
   "mimetype": "text/x-python",
   "name": "python",
   "nbconvert_exporter": "python",
   "pygments_lexer": "ipython3",
   "version": "3.9.13"
  }
 },
 "nbformat": 4,
 "nbformat_minor": 5
}
