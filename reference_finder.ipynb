{
 "cells": [
  {
   "cell_type": "code",
   "execution_count": null,
   "id": "bd0e2c5a-4ac2-4b1b-83ca-962a2b72c210",
   "metadata": {},
   "outputs": [],
   "source": [
    "import os\n",
    "import subprocess\n",
    "\n",
    "from collections import defaultdict\n",
    "from Bio import Entrez\n",
    "import time\n",
    "\n",
    "import pandas as pd\n",
    "import json"
   ]
  },
  {
   "cell_type": "markdown",
   "id": "1d72d810-7391-4a76-aab6-ff3f66c170b2",
   "metadata": {},
   "source": [
    "# Functions"
   ]
  },
  {
   "cell_type": "code",
   "execution_count": null,
   "id": "f7f44f83-d96b-4f0c-b656-f5c58be60b5f",
   "metadata": {},
   "outputs": [],
   "source": [
    "def run_datasets_summary(taxid, flags, assembly_level='complete_genome'):\n",
    "    args = ['datasets', 'summary', \n",
    "            'genome',\n",
    "            'taxon', str(taxid),\n",
    "            '--assembly-level', assembly_level,\n",
    "            '--limit', str(1)]\n",
    "    \n",
    "    args = args + flags\n",
    "    \n",
    "    grepOut  = subprocess.run(args,\n",
    "                              check=True,\n",
    "                              universal_newlines=True,\n",
    "                              stdout=subprocess.PIPE,\n",
    "                              stderr=subprocess.DEVNULL)\n",
    "    \n",
    "    return json.loads(grepOut.stdout.strip())"
   ]
  },
  {
   "cell_type": "code",
   "execution_count": null,
   "id": "e75b36c1-0265-4092-a821-8113ae25a0c0",
   "metadata": {},
   "outputs": [],
   "source": [
    "def run_datasets_download(taxid, assembly_accession, working_dir):\n",
    "    grepOut  = subprocess.run(['datasets', 'download', \n",
    "                               'genome',\n",
    "                               'accession', str(assembly_accession),\n",
    "                               '--exclude-genomic-cds',\n",
    "                               '--exclude-gff3',\n",
    "                               '--exclude-protein',\n",
    "                               '--exclude-rna',\n",
    "                               '--filename', f\"{working_dir}/{taxid}.zip\",\n",
    "                               '--no-progressbar'],\n",
    "                              check=True, stderr=subprocess.DEVNULL)\n",
    "    \n",
    "    return grepOut.returncode"
   ]
  },
  {
   "cell_type": "code",
   "execution_count": null,
   "id": "2a426749-ace1-4c56-89e2-4b06dd793b48",
   "metadata": {},
   "outputs": [],
   "source": [
    "def download_reference_genome(taxid, working_dir):\n",
    "    # check reference and representative genomes first\n",
    "    #source = 'RefSeq'\n",
    "    assembly_accession = None\n",
    "    res =None\n",
    "    representative = True # assembly_category\n",
    "    assembly_level = 'complete'\n",
    "    \n",
    "    res = run_datasets_summary(taxid, ['--reference', '--assembly-source', 'refseq'])\n",
    "    \n",
    "    # check complete assembly in RefSeq\n",
    "    if res['total_count'] == 0:\n",
    "        representative = False\n",
    "        res = run_datasets_summary(taxid, ['--assembly-source', 'refseq'])\n",
    "\n",
    "    # check complete assembly\n",
    "    if res['total_count'] == 0:\n",
    "        res = run_datasets_summary(taxid, [])\n",
    "        #source = 'Assembly'\n",
    "    \n",
    "    # check chromosome assembly\n",
    "    if res['total_count'] == 0:\n",
    "        assembly_level = 'chromosome'\n",
    "        res = run_datasets_summary(taxid, [], assembly_level)\n",
    "        \n",
    "    # check chromosome assembly\n",
    "    if res['total_count'] == 0:\n",
    "        assembly_level='contig'\n",
    "        res = run_datasets_summary(taxid, [], assembly_level)\n",
    "\n",
    "    # check chromosome assembly\n",
    "    if res['total_count'] == 0:\n",
    "        assembly_level='scaffold'\n",
    "        res = run_datasets_summary(taxid, [], assembly_level)\n",
    "        \n",
    "    if res['total_count'] == 1:\n",
    "        assembly_accession = res['assemblies'][0]['assembly']['assembly_accession']\n",
    "        source = res['assemblies'][0]['assembly']['annotation_metadata']['source']\n",
    "        assembly_level_ret = res['assemblies'][0]['assembly']['assembly_level']\n",
    "        organism = res['assemblies'][0]['assembly']['org']['sci_name']\n",
    "        \n",
    "        print(str(taxid).ljust(10), '\\t', assembly_accession)\n",
    "        \n",
    "        return_code = run_datasets_download(taxid, assembly_accession, working_dir)\n",
    "        \n",
    "        if not return_code:\n",
    "            download_completed = True\n",
    "        else:\n",
    "            download_completed = False\n",
    "            \n",
    "    else:\n",
    "        print(str(taxid).ljust(10), '\\t', 'Genome Not Found.')\n",
    "        assembly_accession = None\n",
    "        source = None\n",
    "        representative = None\n",
    "        assembly_level_ret = None\n",
    "        organism = None\n",
    "        download_completed = False\n",
    "        \n",
    "    return taxid, assembly_accession, source, representative, assembly_level_ret, organism, download_completed"
   ]
  },
  {
   "cell_type": "code",
   "execution_count": null,
   "id": "bd3f2659-9fa0-422b-845c-78f21c9bf87e",
   "metadata": {},
   "outputs": [],
   "source": [
    "def unpack(working_dir):\n",
    "    subprocess.run(['unzip', '-o', '-q', f'{working_dir}/*.zip'], check=True)"
   ]
  },
  {
   "cell_type": "code",
   "execution_count": null,
   "id": "6e2d2f94-1bd5-482b-91f6-02a58c96848f",
   "metadata": {},
   "outputs": [],
   "source": [
    "def cat_reference_genome(reference_metadata, reference_genome_path='reference_genomes'):\n",
    "    if not os.path.exists(reference_genome_path):\n",
    "        os.mkdir(reference_genome_path)\n",
    "        \n",
    "    downloaded_assemblies = reference_metadata[reference_metadata['Downloaded']]\n",
    "    \n",
    "    for assembly_id in downloaded_assemblies['Assembly Accession ID']:\n",
    "        genome_path = os.path.join('ncbi_dataset', 'data', assembly_id)\n",
    "        output_fasta = os.path.join(reference_genome_path, f'{assembly_id}.fasta')\n",
    "\n",
    "        subprocess.Popen(f'cat {genome_path}/*.fna', shell=True, stdout=open(os.path.join(output_fasta), \"w\"))"
   ]
  },
  {
   "cell_type": "markdown",
   "id": "1ded8654-dd88-4fa5-b2d9-a25e1ca86e7d",
   "metadata": {},
   "source": [
    "# Filtering Seqscreen Taxonomic Assignment"
   ]
  },
  {
   "cell_type": "code",
   "execution_count": null,
   "id": "4dad59b0-3ccf-42ec-ae94-4542cb17b49a",
   "metadata": {},
   "outputs": [],
   "source": [
    "seqscreen_output = \"ZymoBIOMICS.STD2.Log.ont.seqscreen\""
   ]
  },
  {
   "cell_type": "code",
   "execution_count": null,
   "id": "82ed7110-a16c-4993-a045-b35c14f97d10",
   "metadata": {},
   "outputs": [],
   "source": [
    "classification_result_df = pd.read_csv(os.path.join(seqscreen_output, 'taxonomic_identification', 'taxonomic_assignment', 'taxonomic_results.txt'), sep='\\t')"
   ]
  },
  {
   "cell_type": "code",
   "execution_count": null,
   "id": "dfaebf68-8cbc-4834-9de6-a1224aa2b534",
   "metadata": {},
   "outputs": [],
   "source": [
    "total_read_count, _ = classification_result_df.shape"
   ]
  },
  {
   "cell_type": "code",
   "execution_count": null,
   "id": "3aa6475e-915e-4baa-be38-db8ee5e708cf",
   "metadata": {},
   "outputs": [],
   "source": [
    "taxid_dict = defaultdict(int)\n",
    "for taxid in classification_result_df['taxid']:\n",
    "    taxid_dict[taxid] += 1"
   ]
  },
  {
   "cell_type": "code",
   "execution_count": null,
   "id": "7cc724bf-94b2-4731-8a00-5a3c6eb224b7",
   "metadata": {},
   "outputs": [],
   "source": [
    "min_frac = 0.005\n",
    "\n",
    "taxid_queries = []\n",
    "for taxid in taxid_dict:\n",
    "    if taxid_dict[taxid] >= min_frac * total_read_count:\n",
    "        taxid_queries.append(taxid)"
   ]
  },
  {
   "cell_type": "code",
   "execution_count": null,
   "id": "ef674dcb-7263-4677-9db5-1d4ec3d06c1b",
   "metadata": {},
   "outputs": [],
   "source": [
    "len(taxid_queries)"
   ]
  },
  {
   "cell_type": "markdown",
   "id": "4647cdb3-d5c0-4eac-9978-0c97fefb4a86",
   "metadata": {},
   "source": [
    "# Fetch Reference Genomes"
   ]
  },
  {
   "cell_type": "code",
   "execution_count": null,
   "id": "43a79af7-0c05-4595-8371-51e638eac6f4",
   "metadata": {},
   "outputs": [],
   "source": [
    "working_dir = 'ncbi_downloads'"
   ]
  },
  {
   "cell_type": "code",
   "execution_count": null,
   "id": "b202f8c4-bc34-487c-95ff-163de48bb236",
   "metadata": {},
   "outputs": [],
   "source": [
    "if not os.path.exists(working_dir):\n",
    "    os.mkdir(working_dir)"
   ]
  },
  {
   "cell_type": "code",
   "execution_count": null,
   "id": "6ac57907-442f-42f0-bcfd-be3d8c3dbce7",
   "metadata": {},
   "outputs": [],
   "source": [
    "download_result = []\n",
    "\n",
    "for taxid in taxid_queries:\n",
    "    download_result.append(download_reference_genome(taxid, working_dir))"
   ]
  },
  {
   "cell_type": "code",
   "execution_count": null,
   "id": "f6ede97a-d441-48cc-bb03-cda6ca07b10b",
   "metadata": {},
   "outputs": [],
   "source": [
    "unpack(working_dir)"
   ]
  },
  {
   "cell_type": "code",
   "execution_count": null,
   "id": "387ee8ed-44c7-43b0-bda0-cc86f3127d10",
   "metadata": {},
   "outputs": [],
   "source": [
    "reference_metadata = pd.DataFrame(download_result, columns=['Taxonomy ID', 'Assembly Accession ID', 'Source Database', 'Is Representative', 'Assembly Level', 'Organism', 'Downloaded'])"
   ]
  },
  {
   "cell_type": "code",
   "execution_count": null,
   "id": "bf76556c-e561-4951-b5fb-027ac871372b",
   "metadata": {},
   "outputs": [],
   "source": [
    "reference_metadata.to_csv('reference_metadata.csv', index=False)\n",
    "reference_metadata"
   ]
  },
  {
   "cell_type": "code",
   "execution_count": null,
   "id": "abf590c3-bd7b-4118-9038-94a060ac569a",
   "metadata": {},
   "outputs": [],
   "source": [
    "cat_reference_genome(reference_metadata, reference_genome_path='reference_genomes')"
   ]
  },
  {
   "cell_type": "code",
   "execution_count": null,
   "id": "68b7297b-8320-4794-a78f-96e18ae3479e",
   "metadata": {},
   "outputs": [],
   "source": [
    "run_datasets_summary(281, [], assembly_level='scaffold')"
   ]
  },
  {
   "cell_type": "code",
   "execution_count": null,
   "id": "944a2669-1c4a-4e8c-81e9-e69ce434d4ef",
   "metadata": {},
   "outputs": [],
   "source": []
  }
 ],
 "metadata": {
  "kernelspec": {
   "display_name": "Python 3 (ipykernel)",
   "language": "python",
   "name": "python3"
  },
  "language_info": {
   "codemirror_mode": {
    "name": "ipython",
    "version": 3
   },
   "file_extension": ".py",
   "mimetype": "text/x-python",
   "name": "python",
   "nbconvert_exporter": "python",
   "pygments_lexer": "ipython3",
   "version": "3.7.12"
  }
 },
 "nbformat": 4,
 "nbformat_minor": 5
}
